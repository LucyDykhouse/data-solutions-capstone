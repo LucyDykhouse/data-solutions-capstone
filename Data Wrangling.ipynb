{
 "cells": [
  {
   "cell_type": "markdown",
   "id": "af1677db",
   "metadata": {},
   "source": [
    "# Data Wrangling"
   ]
  },
  {
   "cell_type": "markdown",
   "id": "9d63b5f4",
   "metadata": {},
   "source": [
    "## Data Cleansing and Organization"
   ]
  },
  {
   "cell_type": "markdown",
   "id": "2dc561aa",
   "metadata": {},
   "source": [
    "#### Imports"
   ]
  },
  {
   "cell_type": "code",
   "execution_count": 1,
   "id": "acd2eeb8",
   "metadata": {},
   "outputs": [],
   "source": [
    "import numpy as np\n",
    "import pandas as pd\n",
    "import statsmodels.api as sm\n",
    "from statsmodels.stats.outliers_influence import variance_inflation_factor\n",
    "from scipy import stats"
   ]
  },
  {
   "cell_type": "code",
   "execution_count": 2,
   "id": "636f7783",
   "metadata": {},
   "outputs": [],
   "source": [
    "df = pd.read_csv('waterQuality1.csv')"
   ]
  },
  {
   "cell_type": "code",
   "execution_count": 3,
   "id": "e1a7e861",
   "metadata": {
    "scrolled": true
   },
   "outputs": [
    {
     "data": {
      "text/html": [
       "<div>\n",
       "<style scoped>\n",
       "    .dataframe tbody tr th:only-of-type {\n",
       "        vertical-align: middle;\n",
       "    }\n",
       "\n",
       "    .dataframe tbody tr th {\n",
       "        vertical-align: top;\n",
       "    }\n",
       "\n",
       "    .dataframe thead th {\n",
       "        text-align: right;\n",
       "    }\n",
       "</style>\n",
       "<table border=\"1\" class=\"dataframe\">\n",
       "  <thead>\n",
       "    <tr style=\"text-align: right;\">\n",
       "      <th></th>\n",
       "      <th>aluminium</th>\n",
       "      <th>ammonia</th>\n",
       "      <th>arsenic</th>\n",
       "      <th>barium</th>\n",
       "      <th>cadmium</th>\n",
       "      <th>chloramine</th>\n",
       "      <th>chromium</th>\n",
       "      <th>copper</th>\n",
       "      <th>flouride</th>\n",
       "      <th>bacteria</th>\n",
       "      <th>...</th>\n",
       "      <th>lead</th>\n",
       "      <th>nitrates</th>\n",
       "      <th>nitrites</th>\n",
       "      <th>mercury</th>\n",
       "      <th>perchlorate</th>\n",
       "      <th>radium</th>\n",
       "      <th>selenium</th>\n",
       "      <th>silver</th>\n",
       "      <th>uranium</th>\n",
       "      <th>is_safe</th>\n",
       "    </tr>\n",
       "  </thead>\n",
       "  <tbody>\n",
       "    <tr>\n",
       "      <th>0</th>\n",
       "      <td>1.65</td>\n",
       "      <td>9.08</td>\n",
       "      <td>0.04</td>\n",
       "      <td>2.85</td>\n",
       "      <td>0.007</td>\n",
       "      <td>0.35</td>\n",
       "      <td>0.83</td>\n",
       "      <td>0.17</td>\n",
       "      <td>0.05</td>\n",
       "      <td>0.20</td>\n",
       "      <td>...</td>\n",
       "      <td>0.054</td>\n",
       "      <td>16.08</td>\n",
       "      <td>1.13</td>\n",
       "      <td>0.007</td>\n",
       "      <td>37.75</td>\n",
       "      <td>6.78</td>\n",
       "      <td>0.08</td>\n",
       "      <td>0.34</td>\n",
       "      <td>0.02</td>\n",
       "      <td>1</td>\n",
       "    </tr>\n",
       "    <tr>\n",
       "      <th>1</th>\n",
       "      <td>2.32</td>\n",
       "      <td>21.16</td>\n",
       "      <td>0.01</td>\n",
       "      <td>3.31</td>\n",
       "      <td>0.002</td>\n",
       "      <td>5.28</td>\n",
       "      <td>0.68</td>\n",
       "      <td>0.66</td>\n",
       "      <td>0.90</td>\n",
       "      <td>0.65</td>\n",
       "      <td>...</td>\n",
       "      <td>0.100</td>\n",
       "      <td>2.01</td>\n",
       "      <td>1.93</td>\n",
       "      <td>0.003</td>\n",
       "      <td>32.26</td>\n",
       "      <td>3.21</td>\n",
       "      <td>0.08</td>\n",
       "      <td>0.27</td>\n",
       "      <td>0.05</td>\n",
       "      <td>1</td>\n",
       "    </tr>\n",
       "    <tr>\n",
       "      <th>2</th>\n",
       "      <td>1.01</td>\n",
       "      <td>14.02</td>\n",
       "      <td>0.04</td>\n",
       "      <td>0.58</td>\n",
       "      <td>0.008</td>\n",
       "      <td>4.24</td>\n",
       "      <td>0.53</td>\n",
       "      <td>0.02</td>\n",
       "      <td>0.99</td>\n",
       "      <td>0.05</td>\n",
       "      <td>...</td>\n",
       "      <td>0.078</td>\n",
       "      <td>14.16</td>\n",
       "      <td>1.11</td>\n",
       "      <td>0.006</td>\n",
       "      <td>50.28</td>\n",
       "      <td>7.07</td>\n",
       "      <td>0.07</td>\n",
       "      <td>0.44</td>\n",
       "      <td>0.01</td>\n",
       "      <td>0</td>\n",
       "    </tr>\n",
       "    <tr>\n",
       "      <th>3</th>\n",
       "      <td>1.36</td>\n",
       "      <td>11.33</td>\n",
       "      <td>0.04</td>\n",
       "      <td>2.96</td>\n",
       "      <td>0.001</td>\n",
       "      <td>7.23</td>\n",
       "      <td>0.03</td>\n",
       "      <td>1.66</td>\n",
       "      <td>1.08</td>\n",
       "      <td>0.71</td>\n",
       "      <td>...</td>\n",
       "      <td>0.016</td>\n",
       "      <td>1.41</td>\n",
       "      <td>1.29</td>\n",
       "      <td>0.004</td>\n",
       "      <td>9.12</td>\n",
       "      <td>1.72</td>\n",
       "      <td>0.02</td>\n",
       "      <td>0.45</td>\n",
       "      <td>0.05</td>\n",
       "      <td>1</td>\n",
       "    </tr>\n",
       "    <tr>\n",
       "      <th>4</th>\n",
       "      <td>0.92</td>\n",
       "      <td>24.33</td>\n",
       "      <td>0.03</td>\n",
       "      <td>0.20</td>\n",
       "      <td>0.006</td>\n",
       "      <td>2.67</td>\n",
       "      <td>0.69</td>\n",
       "      <td>0.57</td>\n",
       "      <td>0.61</td>\n",
       "      <td>0.13</td>\n",
       "      <td>...</td>\n",
       "      <td>0.117</td>\n",
       "      <td>6.74</td>\n",
       "      <td>1.11</td>\n",
       "      <td>0.003</td>\n",
       "      <td>16.90</td>\n",
       "      <td>2.41</td>\n",
       "      <td>0.02</td>\n",
       "      <td>0.06</td>\n",
       "      <td>0.02</td>\n",
       "      <td>1</td>\n",
       "    </tr>\n",
       "  </tbody>\n",
       "</table>\n",
       "<p>5 rows × 21 columns</p>\n",
       "</div>"
      ],
      "text/plain": [
       "   aluminium ammonia  arsenic  barium  cadmium  chloramine  chromium  copper  \\\n",
       "0       1.65    9.08     0.04    2.85    0.007        0.35      0.83    0.17   \n",
       "1       2.32   21.16     0.01    3.31    0.002        5.28      0.68    0.66   \n",
       "2       1.01   14.02     0.04    0.58    0.008        4.24      0.53    0.02   \n",
       "3       1.36   11.33     0.04    2.96    0.001        7.23      0.03    1.66   \n",
       "4       0.92   24.33     0.03    0.20    0.006        2.67      0.69    0.57   \n",
       "\n",
       "   flouride  bacteria  ...   lead  nitrates  nitrites  mercury  perchlorate  \\\n",
       "0      0.05      0.20  ...  0.054     16.08      1.13    0.007        37.75   \n",
       "1      0.90      0.65  ...  0.100      2.01      1.93    0.003        32.26   \n",
       "2      0.99      0.05  ...  0.078     14.16      1.11    0.006        50.28   \n",
       "3      1.08      0.71  ...  0.016      1.41      1.29    0.004         9.12   \n",
       "4      0.61      0.13  ...  0.117      6.74      1.11    0.003        16.90   \n",
       "\n",
       "   radium  selenium  silver  uranium  is_safe  \n",
       "0    6.78      0.08    0.34     0.02        1  \n",
       "1    3.21      0.08    0.27     0.05        1  \n",
       "2    7.07      0.07    0.44     0.01        0  \n",
       "3    1.72      0.02    0.45     0.05        1  \n",
       "4    2.41      0.02    0.06     0.02        1  \n",
       "\n",
       "[5 rows x 21 columns]"
      ]
     },
     "execution_count": 3,
     "metadata": {},
     "output_type": "execute_result"
    }
   ],
   "source": [
    "df.head()"
   ]
  },
  {
   "cell_type": "markdown",
   "id": "96e2b59b",
   "metadata": {},
   "source": [
    "#### All columns are relevant to scope of project - no column drop is needed\n",
    "#### Search for and remove any duplicates in data"
   ]
  },
  {
   "cell_type": "code",
   "execution_count": 4,
   "id": "151bc083",
   "metadata": {},
   "outputs": [
    {
     "data": {
      "text/plain": [
       "False    7999\n",
       "dtype: int64"
      ]
     },
     "execution_count": 4,
     "metadata": {},
     "output_type": "execute_result"
    }
   ],
   "source": [
    "df.duplicated().value_counts()"
   ]
  },
  {
   "cell_type": "markdown",
   "id": "384c8bbd",
   "metadata": {},
   "source": [
    "#### Check data types"
   ]
  },
  {
   "cell_type": "code",
   "execution_count": 5,
   "id": "e86162b8",
   "metadata": {},
   "outputs": [
    {
     "data": {
      "text/plain": [
       "aluminium      float64\n",
       "ammonia         object\n",
       "arsenic        float64\n",
       "barium         float64\n",
       "cadmium        float64\n",
       "chloramine     float64\n",
       "chromium       float64\n",
       "copper         float64\n",
       "flouride       float64\n",
       "bacteria       float64\n",
       "viruses        float64\n",
       "lead           float64\n",
       "nitrates       float64\n",
       "nitrites       float64\n",
       "mercury        float64\n",
       "perchlorate    float64\n",
       "radium         float64\n",
       "selenium       float64\n",
       "silver         float64\n",
       "uranium        float64\n",
       "is_safe         object\n",
       "dtype: object"
      ]
     },
     "execution_count": 5,
     "metadata": {},
     "output_type": "execute_result"
    }
   ],
   "source": [
    "df.dtypes"
   ]
  },
  {
   "cell_type": "markdown",
   "id": "d306fd1c",
   "metadata": {},
   "source": [
    "#### Convert ammonia and is_safe columns to numeric data"
   ]
  },
  {
   "cell_type": "code",
   "execution_count": 6,
   "id": "31b3fced",
   "metadata": {},
   "outputs": [],
   "source": [
    "df['ammonia'] = pd.to_numeric(df['ammonia'], errors='coerce')\n",
    "df['is_safe'] = pd.to_numeric(df['is_safe'], errors='coerce')"
   ]
  },
  {
   "cell_type": "markdown",
   "id": "0bb8cc85",
   "metadata": {},
   "source": [
    "#### Check data types again"
   ]
  },
  {
   "cell_type": "code",
   "execution_count": 7,
   "id": "fa52a671",
   "metadata": {},
   "outputs": [
    {
     "data": {
      "text/plain": [
       "aluminium      float64\n",
       "ammonia        float64\n",
       "arsenic        float64\n",
       "barium         float64\n",
       "cadmium        float64\n",
       "chloramine     float64\n",
       "chromium       float64\n",
       "copper         float64\n",
       "flouride       float64\n",
       "bacteria       float64\n",
       "viruses        float64\n",
       "lead           float64\n",
       "nitrates       float64\n",
       "nitrites       float64\n",
       "mercury        float64\n",
       "perchlorate    float64\n",
       "radium         float64\n",
       "selenium       float64\n",
       "silver         float64\n",
       "uranium        float64\n",
       "is_safe        float64\n",
       "dtype: object"
      ]
     },
     "execution_count": 7,
     "metadata": {},
     "output_type": "execute_result"
    }
   ],
   "source": [
    "df.dtypes"
   ]
  },
  {
   "cell_type": "markdown",
   "id": "c95646e6",
   "metadata": {},
   "source": [
    "#### Check for missing data"
   ]
  },
  {
   "cell_type": "code",
   "execution_count": 8,
   "id": "92884048",
   "metadata": {},
   "outputs": [
    {
     "data": {
      "text/plain": [
       "True"
      ]
     },
     "execution_count": 8,
     "metadata": {},
     "output_type": "execute_result"
    }
   ],
   "source": [
    "# Check entire dataframe for missing values\n",
    "df.isna().values.any()"
   ]
  },
  {
   "cell_type": "code",
   "execution_count": 9,
   "id": "f129060c",
   "metadata": {},
   "outputs": [
    {
     "data": {
      "text/plain": [
       "aluminium      False\n",
       "ammonia         True\n",
       "arsenic        False\n",
       "barium         False\n",
       "cadmium        False\n",
       "chloramine     False\n",
       "chromium       False\n",
       "copper         False\n",
       "flouride       False\n",
       "bacteria       False\n",
       "viruses        False\n",
       "lead           False\n",
       "nitrates       False\n",
       "nitrites       False\n",
       "mercury        False\n",
       "perchlorate    False\n",
       "radium         False\n",
       "selenium       False\n",
       "silver         False\n",
       "uranium        False\n",
       "is_safe         True\n",
       "dtype: bool"
      ]
     },
     "execution_count": 9,
     "metadata": {},
     "output_type": "execute_result"
    }
   ],
   "source": [
    "# Check which columns are missing values\n",
    "df.isna().any()"
   ]
  },
  {
   "cell_type": "code",
   "execution_count": 10,
   "id": "f6cd3aec",
   "metadata": {},
   "outputs": [
    {
     "data": {
      "text/plain": [
       "aluminium      0\n",
       "ammonia        3\n",
       "arsenic        0\n",
       "barium         0\n",
       "cadmium        0\n",
       "chloramine     0\n",
       "chromium       0\n",
       "copper         0\n",
       "flouride       0\n",
       "bacteria       0\n",
       "viruses        0\n",
       "lead           0\n",
       "nitrates       0\n",
       "nitrites       0\n",
       "mercury        0\n",
       "perchlorate    0\n",
       "radium         0\n",
       "selenium       0\n",
       "silver         0\n",
       "uranium        0\n",
       "is_safe        3\n",
       "dtype: int64"
      ]
     },
     "execution_count": 10,
     "metadata": {},
     "output_type": "execute_result"
    }
   ],
   "source": [
    "# Check the total number of missing values in each column\n",
    "df.isna().sum()"
   ]
  },
  {
   "cell_type": "code",
   "execution_count": 11,
   "id": "4535a989",
   "metadata": {},
   "outputs": [
    {
     "data": {
      "text/plain": [
       "3"
      ]
     },
     "execution_count": 11,
     "metadata": {},
     "output_type": "execute_result"
    }
   ],
   "source": [
    "# Check how many total rows are missing values\n",
    "df.isna().any(axis=1).sum()"
   ]
  },
  {
   "cell_type": "markdown",
   "id": "f99a6969",
   "metadata": {},
   "source": [
    "#### 3 rows with missing values is a very small percentage of the dataset\n",
    "#### Can handle missing data by deleting the 3 rows"
   ]
  },
  {
   "cell_type": "code",
   "execution_count": 12,
   "id": "7ecaa0c9",
   "metadata": {},
   "outputs": [],
   "source": [
    "df.dropna(inplace=True);"
   ]
  },
  {
   "cell_type": "code",
   "execution_count": 13,
   "id": "5e3d57da",
   "metadata": {},
   "outputs": [
    {
     "data": {
      "text/plain": [
       "False"
      ]
     },
     "execution_count": 13,
     "metadata": {},
     "output_type": "execute_result"
    }
   ],
   "source": [
    "df.isna().values.any()"
   ]
  },
  {
   "cell_type": "markdown",
   "id": "9df773f8",
   "metadata": {},
   "source": [
    "#### With no missing data, convert is_safe column to integers"
   ]
  },
  {
   "cell_type": "code",
   "execution_count": 14,
   "id": "c13200e5",
   "metadata": {},
   "outputs": [],
   "source": [
    "df['is_safe'] = df['is_safe'].astype(int)"
   ]
  },
  {
   "cell_type": "code",
   "execution_count": 15,
   "id": "a21f7a1b",
   "metadata": {},
   "outputs": [
    {
     "data": {
      "text/plain": [
       "aluminium      float64\n",
       "ammonia        float64\n",
       "arsenic        float64\n",
       "barium         float64\n",
       "cadmium        float64\n",
       "chloramine     float64\n",
       "chromium       float64\n",
       "copper         float64\n",
       "flouride       float64\n",
       "bacteria       float64\n",
       "viruses        float64\n",
       "lead           float64\n",
       "nitrates       float64\n",
       "nitrites       float64\n",
       "mercury        float64\n",
       "perchlorate    float64\n",
       "radium         float64\n",
       "selenium       float64\n",
       "silver         float64\n",
       "uranium        float64\n",
       "is_safe          int32\n",
       "dtype: object"
      ]
     },
     "execution_count": 15,
     "metadata": {},
     "output_type": "execute_result"
    }
   ],
   "source": [
    "df.dtypes"
   ]
  },
  {
   "cell_type": "markdown",
   "id": "41f61911",
   "metadata": {},
   "source": [
    "#### Correct spelling and accuracy of column names"
   ]
  },
  {
   "cell_type": "code",
   "execution_count": 16,
   "id": "c3e78dc9",
   "metadata": {},
   "outputs": [
    {
     "data": {
      "text/plain": [
       "Index(['aluminum', 'ammonia', 'arsenic', 'barium', 'cadmium', 'chloramine',\n",
       "       'chromium', 'copper', 'fluoride', 'bacteria', 'viruses', 'lead',\n",
       "       'nitrates', 'nitrites', 'mercury', 'perchlorate', 'radium', 'selenium',\n",
       "       'silver', 'uranium', 'potability'],\n",
       "      dtype='object')"
      ]
     },
     "execution_count": 16,
     "metadata": {},
     "output_type": "execute_result"
    }
   ],
   "source": [
    "df.rename({'aluminium': 'aluminum',\n",
    "            'flouride': 'fluoride',\n",
    "            'is_safe': 'potability'}, \n",
    "            axis=1, inplace=True)\n",
    "\n",
    "df.columns"
   ]
  },
  {
   "cell_type": "markdown",
   "id": "c85ae916",
   "metadata": {},
   "source": [
    "#### Write data to csv"
   ]
  },
  {
   "cell_type": "code",
   "execution_count": 17,
   "id": "a679ce49",
   "metadata": {},
   "outputs": [],
   "source": [
    "df.to_csv('./clean_df.csv', index=False)"
   ]
  },
  {
   "cell_type": "markdown",
   "id": "361d9fc8",
   "metadata": {},
   "source": [
    "## Feature Engineering\n",
    "#### Goal: Make explanatory variables (the chemical and biological characteristics) better suited to the outcome variable (potability). Check conditions for logistic regression"
   ]
  },
  {
   "cell_type": "markdown",
   "id": "8ccf4429",
   "metadata": {},
   "source": [
    "#### Assumption 1 of Logistic Regression: Appropriate Outcome Type"
   ]
  },
  {
   "cell_type": "code",
   "execution_count": 18,
   "id": "909f4707",
   "metadata": {},
   "outputs": [
    {
     "data": {
      "text/plain": [
       "2"
      ]
     },
     "execution_count": 18,
     "metadata": {},
     "output_type": "execute_result"
    }
   ],
   "source": [
    "# Outcome variable = potability\n",
    "# potability should only have two unique outcomes\n",
    "\n",
    "df['potability'].nunique()"
   ]
  },
  {
   "cell_type": "markdown",
   "id": "1fa7eae0",
   "metadata": {},
   "source": [
    "#### Assumption 1 is met as potability is binary\n",
    "#### Assumption 2: Linearity of independent variables and log-odds"
   ]
  },
  {
   "cell_type": "code",
   "execution_count": 19,
   "id": "6b55bbdc",
   "metadata": {},
   "outputs": [],
   "source": [
    "def check_linearity(dframe):\n",
    "    \"\"\" Function that makes use of the Box-Tidwell test to check for linearity\n",
    "        between predictors and the logit\n",
    "        \n",
    "        params: dframe - dataframe to analyze\n",
    "        \n",
    "        output: prints significance levels of analyzed relationships.\"\"\"\n",
    "\n",
    "    \n",
    "    # Define continuous variables\n",
    "    cont_vars = dframe.iloc[:, 0:-1]    \n",
    "\n",
    "    # Apply natural log to continuous variables\n",
    "    for var in cont_vars:\n",
    "        dframe[f'{var}:Log_{var}'] = dframe[var].apply(lambda x: x * np.log(x))\n",
    "\n",
    "    dframe.fillna(0.00, inplace=True)\n",
    "\n",
    "    # Get column list of continuous variables\n",
    "    df_drop = dframe.drop(['potability'], axis=1)\n",
    "    keep_cols = df_drop.columns.to_list()\n",
    "\n",
    "    # Create new dataframe from continuous variables and interaction terms\n",
    "    lin_df = df_drop[keep_cols]\n",
    "\n",
    "    # Add a constant term to df\n",
    "    lin_df_const = sm.add_constant(lin_df)\n",
    "\n",
    "    # Build the model to fit data\n",
    "    logit_results = sm.GLM(list(df['potability']), lin_df_const, family=sm.families.Binomial()).fit()\n",
    "\n",
    "    # Send results summary\n",
    "    return logit_results.summary()"
   ]
  },
  {
   "cell_type": "code",
   "execution_count": 20,
   "id": "e4400b7a",
   "metadata": {},
   "outputs": [],
   "source": [
    "check_df = pd.read_csv('clean_df.csv')"
   ]
  },
  {
   "cell_type": "code",
   "execution_count": 21,
   "id": "712fab36",
   "metadata": {},
   "outputs": [
    {
     "data": {
      "text/html": [
       "<table class=\"simpletable\">\n",
       "<caption>Generalized Linear Model Regression Results</caption>\n",
       "<tr>\n",
       "  <th>Dep. Variable:</th>           <td>y</td>        <th>  No. Observations:  </th>  <td>  7996</td> \n",
       "</tr>\n",
       "<tr>\n",
       "  <th>Model:</th>                  <td>GLM</td>       <th>  Df Residuals:      </th>  <td>  7955</td> \n",
       "</tr>\n",
       "<tr>\n",
       "  <th>Model Family:</th>        <td>Binomial</td>     <th>  Df Model:          </th>  <td>    40</td> \n",
       "</tr>\n",
       "<tr>\n",
       "  <th>Link Function:</th>         <td>logit</td>      <th>  Scale:             </th> <td>  1.0000</td>\n",
       "</tr>\n",
       "<tr>\n",
       "  <th>Method:</th>                <td>IRLS</td>       <th>  Log-Likelihood:    </th> <td> -1563.4</td>\n",
       "</tr>\n",
       "<tr>\n",
       "  <th>Date:</th>            <td>Mon, 31 Jan 2022</td> <th>  Deviance:          </th> <td>  3126.9</td>\n",
       "</tr>\n",
       "<tr>\n",
       "  <th>Time:</th>                <td>11:12:05</td>     <th>  Pearson chi2:      </th> <td>1.28e+04</td>\n",
       "</tr>\n",
       "<tr>\n",
       "  <th>No. Iterations:</th>          <td>7</td>        <th>  Pseudo R-squ. (CS):</th>  <td>0.2730</td> \n",
       "</tr>\n",
       "<tr>\n",
       "  <th>Covariance Type:</th>     <td>nonrobust</td>    <th>                     </th>     <td> </td>   \n",
       "</tr>\n",
       "</table>\n",
       "<table class=\"simpletable\">\n",
       "<tr>\n",
       "               <td></td>                  <th>coef</th>     <th>std err</th>      <th>z</th>      <th>P>|z|</th>  <th>[0.025</th>    <th>0.975]</th>  \n",
       "</tr>\n",
       "<tr>\n",
       "  <th>const</th>                       <td>    0.9572</td> <td>    0.574</td> <td>    1.667</td> <td> 0.095</td> <td>   -0.168</td> <td>    2.082</td>\n",
       "</tr>\n",
       "<tr>\n",
       "  <th>aluminum</th>                    <td>    3.3109</td> <td>    0.163</td> <td>   20.356</td> <td> 0.000</td> <td>    2.992</td> <td>    3.630</td>\n",
       "</tr>\n",
       "<tr>\n",
       "  <th>ammonia</th>                     <td>    0.0541</td> <td>    0.053</td> <td>    1.019</td> <td> 0.308</td> <td>   -0.050</td> <td>    0.158</td>\n",
       "</tr>\n",
       "<tr>\n",
       "  <th>arsenic</th>                     <td>   -2.9783</td> <td>    0.321</td> <td>   -9.287</td> <td> 0.000</td> <td>   -3.607</td> <td>   -2.350</td>\n",
       "</tr>\n",
       "<tr>\n",
       "  <th>barium</th>                      <td>    0.0030</td> <td>    0.182</td> <td>    0.016</td> <td> 0.987</td> <td>   -0.354</td> <td>    0.360</td>\n",
       "</tr>\n",
       "<tr>\n",
       "  <th>cadmium</th>                     <td>   34.7279</td> <td>    9.159</td> <td>    3.792</td> <td> 0.000</td> <td>   16.776</td> <td>   52.679</td>\n",
       "</tr>\n",
       "<tr>\n",
       "  <th>chloramine</th>                  <td>    1.1895</td> <td>    0.144</td> <td>    8.234</td> <td> 0.000</td> <td>    0.906</td> <td>    1.473</td>\n",
       "</tr>\n",
       "<tr>\n",
       "  <th>chromium</th>                    <td>    0.2947</td> <td>    0.208</td> <td>    1.415</td> <td> 0.157</td> <td>   -0.114</td> <td>    0.703</td>\n",
       "</tr>\n",
       "<tr>\n",
       "  <th>copper</th>                      <td>   -1.0001</td> <td>    0.181</td> <td>   -5.514</td> <td> 0.000</td> <td>   -1.356</td> <td>   -0.645</td>\n",
       "</tr>\n",
       "<tr>\n",
       "  <th>fluoride</th>                    <td>    0.2751</td> <td>    0.224</td> <td>    1.227</td> <td> 0.220</td> <td>   -0.164</td> <td>    0.714</td>\n",
       "</tr>\n",
       "<tr>\n",
       "  <th>bacteria</th>                    <td>    2.5345</td> <td>    0.402</td> <td>    6.307</td> <td> 0.000</td> <td>    1.747</td> <td>    3.322</td>\n",
       "</tr>\n",
       "<tr>\n",
       "  <th>viruses</th>                     <td>   -3.1873</td> <td>    0.440</td> <td>   -7.249</td> <td> 0.000</td> <td>   -4.049</td> <td>   -2.326</td>\n",
       "</tr>\n",
       "<tr>\n",
       "  <th>lead</th>                        <td>   -2.9502</td> <td>    3.742</td> <td>   -0.788</td> <td> 0.430</td> <td>  -10.285</td> <td>    4.384</td>\n",
       "</tr>\n",
       "<tr>\n",
       "  <th>nitrates</th>                    <td>   -0.1138</td> <td>    0.080</td> <td>   -1.426</td> <td> 0.154</td> <td>   -0.270</td> <td>    0.043</td>\n",
       "</tr>\n",
       "<tr>\n",
       "  <th>nitrites</th>                    <td>   -0.4168</td> <td>    0.332</td> <td>   -1.255</td> <td> 0.209</td> <td>   -1.068</td> <td>    0.234</td>\n",
       "</tr>\n",
       "<tr>\n",
       "  <th>mercury</th>                     <td>  128.6711</td> <td>  192.801</td> <td>    0.667</td> <td> 0.505</td> <td> -249.211</td> <td>  506.554</td>\n",
       "</tr>\n",
       "<tr>\n",
       "  <th>perchlorate</th>                 <td>    0.3479</td> <td>    0.036</td> <td>    9.775</td> <td> 0.000</td> <td>    0.278</td> <td>    0.418</td>\n",
       "</tr>\n",
       "<tr>\n",
       "  <th>radium</th>                      <td>   -0.0119</td> <td>    0.127</td> <td>   -0.094</td> <td> 0.925</td> <td>   -0.261</td> <td>    0.237</td>\n",
       "</tr>\n",
       "<tr>\n",
       "  <th>selenium</th>                    <td>   -4.3464</td> <td>    9.504</td> <td>   -0.457</td> <td> 0.647</td> <td>  -22.974</td> <td>   14.282</td>\n",
       "</tr>\n",
       "<tr>\n",
       "  <th>silver</th>                      <td>   -0.0011</td> <td>    0.675</td> <td>   -0.002</td> <td> 0.999</td> <td>   -1.324</td> <td>    1.322</td>\n",
       "</tr>\n",
       "<tr>\n",
       "  <th>uranium</th>                     <td>  -22.0120</td> <td>   10.589</td> <td>   -2.079</td> <td> 0.038</td> <td>  -42.767</td> <td>   -1.257</td>\n",
       "</tr>\n",
       "<tr>\n",
       "  <th>aluminum:Log_aluminum</th>       <td>   -1.7042</td> <td>    0.100</td> <td>  -16.961</td> <td> 0.000</td> <td>   -1.901</td> <td>   -1.507</td>\n",
       "</tr>\n",
       "<tr>\n",
       "  <th>ammonia:Log_ammonia</th>         <td>   -0.0243</td> <td>    0.015</td> <td>   -1.610</td> <td> 0.107</td> <td>   -0.054</td> <td>    0.005</td>\n",
       "</tr>\n",
       "<tr>\n",
       "  <th>arsenic:Log_arsenic</th>         <td>    3.1630</td> <td>    0.636</td> <td>    4.972</td> <td> 0.000</td> <td>    1.916</td> <td>    4.410</td>\n",
       "</tr>\n",
       "<tr>\n",
       "  <th>barium:Log_barium</th>           <td>    0.0141</td> <td>    0.113</td> <td>    0.125</td> <td> 0.901</td> <td>   -0.207</td> <td>    0.235</td>\n",
       "</tr>\n",
       "<tr>\n",
       "  <th>cadmium:Log_cadmium</th>         <td>   22.3757</td> <td>    4.147</td> <td>    5.395</td> <td> 0.000</td> <td>   14.247</td> <td>   30.504</td>\n",
       "</tr>\n",
       "<tr>\n",
       "  <th>chloramine:Log_chloramine</th>   <td>   -0.4931</td> <td>    0.064</td> <td>   -7.648</td> <td> 0.000</td> <td>   -0.619</td> <td>   -0.367</td>\n",
       "</tr>\n",
       "<tr>\n",
       "  <th>chromium:Log_chromium</th>       <td>   -2.3494</td> <td>    0.570</td> <td>   -4.119</td> <td> 0.000</td> <td>   -3.467</td> <td>   -1.231</td>\n",
       "</tr>\n",
       "<tr>\n",
       "  <th>copper:Log_copper</th>           <td>    0.5655</td> <td>    0.219</td> <td>    2.585</td> <td> 0.010</td> <td>    0.137</td> <td>    0.994</td>\n",
       "</tr>\n",
       "<tr>\n",
       "  <th>fluoride:Log_fluoride</th>       <td>   -0.3950</td> <td>    0.327</td> <td>   -1.208</td> <td> 0.227</td> <td>   -1.036</td> <td>    0.246</td>\n",
       "</tr>\n",
       "<tr>\n",
       "  <th>bacteria:Log_bacteria</th>       <td>    3.1138</td> <td>    0.580</td> <td>    5.369</td> <td> 0.000</td> <td>    1.977</td> <td>    4.250</td>\n",
       "</tr>\n",
       "<tr>\n",
       "  <th>viruses:Log_viruses</th>         <td>   -2.5475</td> <td>    0.807</td> <td>   -3.157</td> <td> 0.002</td> <td>   -4.129</td> <td>   -0.966</td>\n",
       "</tr>\n",
       "<tr>\n",
       "  <th>lead:Log_lead</th>               <td>   -0.1759</td> <td>    2.486</td> <td>   -0.071</td> <td> 0.944</td> <td>   -5.049</td> <td>    4.697</td>\n",
       "</tr>\n",
       "<tr>\n",
       "  <th>nitrates:Log_nitrates</th>       <td>    0.0161</td> <td>    0.026</td> <td>    0.627</td> <td> 0.530</td> <td>   -0.034</td> <td>    0.066</td>\n",
       "</tr>\n",
       "<tr>\n",
       "  <th>nitrites:Log_nitrites</th>       <td>   -0.2058</td> <td>    0.285</td> <td>   -0.722</td> <td> 0.471</td> <td>   -0.765</td> <td>    0.353</td>\n",
       "</tr>\n",
       "<tr>\n",
       "  <th>mercury:Log_mercury</th>         <td>   39.4684</td> <td>   43.065</td> <td>    0.916</td> <td> 0.359</td> <td>  -44.938</td> <td>  123.875</td>\n",
       "</tr>\n",
       "<tr>\n",
       "  <th>perchlorate:Log_perchlorate</th> <td>   -0.0964</td> <td>    0.009</td> <td>  -11.126</td> <td> 0.000</td> <td>   -0.113</td> <td>   -0.079</td>\n",
       "</tr>\n",
       "<tr>\n",
       "  <th>radium:Log_radium</th>           <td>   -0.0632</td> <td>    0.058</td> <td>   -1.090</td> <td> 0.276</td> <td>   -0.177</td> <td>    0.050</td>\n",
       "</tr>\n",
       "<tr>\n",
       "  <th>selenium:Log_selenium</th>       <td>   -0.2481</td> <td>    4.290</td> <td>   -0.058</td> <td> 0.954</td> <td>   -8.656</td> <td>    8.160</td>\n",
       "</tr>\n",
       "<tr>\n",
       "  <th>silver:Log_silver</th>           <td>    5.6804</td> <td>    0.957</td> <td>    5.937</td> <td> 0.000</td> <td>    3.805</td> <td>    7.556</td>\n",
       "</tr>\n",
       "<tr>\n",
       "  <th>uranium:Log_uranium</th>         <td>   -2.7794</td> <td>    4.431</td> <td>   -0.627</td> <td> 0.531</td> <td>  -11.464</td> <td>    5.906</td>\n",
       "</tr>\n",
       "</table>"
      ],
      "text/plain": [
       "<class 'statsmodels.iolib.summary.Summary'>\n",
       "\"\"\"\n",
       "                 Generalized Linear Model Regression Results                  \n",
       "==============================================================================\n",
       "Dep. Variable:                      y   No. Observations:                 7996\n",
       "Model:                            GLM   Df Residuals:                     7955\n",
       "Model Family:                Binomial   Df Model:                           40\n",
       "Link Function:                  logit   Scale:                          1.0000\n",
       "Method:                          IRLS   Log-Likelihood:                -1563.4\n",
       "Date:                Mon, 31 Jan 2022   Deviance:                       3126.9\n",
       "Time:                        11:12:05   Pearson chi2:                 1.28e+04\n",
       "No. Iterations:                     7   Pseudo R-squ. (CS):             0.2730\n",
       "Covariance Type:            nonrobust                                         \n",
       "===============================================================================================\n",
       "                                  coef    std err          z      P>|z|      [0.025      0.975]\n",
       "-----------------------------------------------------------------------------------------------\n",
       "const                           0.9572      0.574      1.667      0.095      -0.168       2.082\n",
       "aluminum                        3.3109      0.163     20.356      0.000       2.992       3.630\n",
       "ammonia                         0.0541      0.053      1.019      0.308      -0.050       0.158\n",
       "arsenic                        -2.9783      0.321     -9.287      0.000      -3.607      -2.350\n",
       "barium                          0.0030      0.182      0.016      0.987      -0.354       0.360\n",
       "cadmium                        34.7279      9.159      3.792      0.000      16.776      52.679\n",
       "chloramine                      1.1895      0.144      8.234      0.000       0.906       1.473\n",
       "chromium                        0.2947      0.208      1.415      0.157      -0.114       0.703\n",
       "copper                         -1.0001      0.181     -5.514      0.000      -1.356      -0.645\n",
       "fluoride                        0.2751      0.224      1.227      0.220      -0.164       0.714\n",
       "bacteria                        2.5345      0.402      6.307      0.000       1.747       3.322\n",
       "viruses                        -3.1873      0.440     -7.249      0.000      -4.049      -2.326\n",
       "lead                           -2.9502      3.742     -0.788      0.430     -10.285       4.384\n",
       "nitrates                       -0.1138      0.080     -1.426      0.154      -0.270       0.043\n",
       "nitrites                       -0.4168      0.332     -1.255      0.209      -1.068       0.234\n",
       "mercury                       128.6711    192.801      0.667      0.505    -249.211     506.554\n",
       "perchlorate                     0.3479      0.036      9.775      0.000       0.278       0.418\n",
       "radium                         -0.0119      0.127     -0.094      0.925      -0.261       0.237\n",
       "selenium                       -4.3464      9.504     -0.457      0.647     -22.974      14.282\n",
       "silver                         -0.0011      0.675     -0.002      0.999      -1.324       1.322\n",
       "uranium                       -22.0120     10.589     -2.079      0.038     -42.767      -1.257\n",
       "aluminum:Log_aluminum          -1.7042      0.100    -16.961      0.000      -1.901      -1.507\n",
       "ammonia:Log_ammonia            -0.0243      0.015     -1.610      0.107      -0.054       0.005\n",
       "arsenic:Log_arsenic             3.1630      0.636      4.972      0.000       1.916       4.410\n",
       "barium:Log_barium               0.0141      0.113      0.125      0.901      -0.207       0.235\n",
       "cadmium:Log_cadmium            22.3757      4.147      5.395      0.000      14.247      30.504\n",
       "chloramine:Log_chloramine      -0.4931      0.064     -7.648      0.000      -0.619      -0.367\n",
       "chromium:Log_chromium          -2.3494      0.570     -4.119      0.000      -3.467      -1.231\n",
       "copper:Log_copper               0.5655      0.219      2.585      0.010       0.137       0.994\n",
       "fluoride:Log_fluoride          -0.3950      0.327     -1.208      0.227      -1.036       0.246\n",
       "bacteria:Log_bacteria           3.1138      0.580      5.369      0.000       1.977       4.250\n",
       "viruses:Log_viruses            -2.5475      0.807     -3.157      0.002      -4.129      -0.966\n",
       "lead:Log_lead                  -0.1759      2.486     -0.071      0.944      -5.049       4.697\n",
       "nitrates:Log_nitrates           0.0161      0.026      0.627      0.530      -0.034       0.066\n",
       "nitrites:Log_nitrites          -0.2058      0.285     -0.722      0.471      -0.765       0.353\n",
       "mercury:Log_mercury            39.4684     43.065      0.916      0.359     -44.938     123.875\n",
       "perchlorate:Log_perchlorate    -0.0964      0.009    -11.126      0.000      -0.113      -0.079\n",
       "radium:Log_radium              -0.0632      0.058     -1.090      0.276      -0.177       0.050\n",
       "selenium:Log_selenium          -0.2481      4.290     -0.058      0.954      -8.656       8.160\n",
       "silver:Log_silver               5.6804      0.957      5.937      0.000       3.805       7.556\n",
       "uranium:Log_uranium            -2.7794      4.431     -0.627      0.531     -11.464       5.906\n",
       "===============================================================================================\n",
       "\"\"\""
      ]
     },
     "execution_count": 21,
     "metadata": {},
     "output_type": "execute_result"
    }
   ],
   "source": [
    "results = check_linearity(check_df)\n",
    "results"
   ]
  },
  {
   "cell_type": "markdown",
   "id": "80783f89",
   "metadata": {},
   "source": [
    "#### Ten predictors have nonlinearity with the logit (the Log columns where p < 0.05)\n",
    "\n",
    "#### Solution attempt: Transform data into different orders to capture non-linearity"
   ]
  },
  {
   "cell_type": "code",
   "execution_count": 22,
   "id": "495bb698",
   "metadata": {},
   "outputs": [],
   "source": [
    "check_df = pd.read_csv('clean_df.csv')\n",
    "\n",
    "check_df.iloc[:, [10]] = \\\n",
    "            check_df.iloc[:, [10]] \\\n",
    "            .apply(lambda x: x ** 2)\n",
    "\n",
    "check_df.iloc[:, [9, 15]] = \\\n",
    "            check_df.iloc[:, [9, 15]] \\\n",
    "            .apply(lambda x: x ** 4)\n",
    "\n",
    "check_df.iloc[:, [2, 4, 7]] = \\\n",
    "            check_df.iloc[:, [2, 4, 7]] \\\n",
    "            .apply(lambda x: x ** 0.5)\n",
    "\n",
    "check_df.iloc[:, [0, 5]] = \\\n",
    "            check_df.iloc[:, [0, 5]] \\\n",
    "            .apply(lambda x: x ** 0.20)\n",
    "\n",
    "check_df.iloc[:, [6, 18]] = \\\n",
    "            check_df.iloc[:, [6, 18]] \\\n",
    "            .apply(lambda x: x ** 0.333)"
   ]
  },
  {
   "cell_type": "code",
   "execution_count": 23,
   "id": "710b5a24",
   "metadata": {},
   "outputs": [
    {
     "data": {
      "text/html": [
       "<table class=\"simpletable\">\n",
       "<caption>Generalized Linear Model Regression Results</caption>\n",
       "<tr>\n",
       "  <th>Dep. Variable:</th>           <td>y</td>        <th>  No. Observations:  </th>  <td>  7996</td> \n",
       "</tr>\n",
       "<tr>\n",
       "  <th>Model:</th>                  <td>GLM</td>       <th>  Df Residuals:      </th>  <td>  7955</td> \n",
       "</tr>\n",
       "<tr>\n",
       "  <th>Model Family:</th>        <td>Binomial</td>     <th>  Df Model:          </th>  <td>    40</td> \n",
       "</tr>\n",
       "<tr>\n",
       "  <th>Link Function:</th>         <td>logit</td>      <th>  Scale:             </th> <td>  1.0000</td>\n",
       "</tr>\n",
       "<tr>\n",
       "  <th>Method:</th>                <td>IRLS</td>       <th>  Log-Likelihood:    </th> <td> -1649.6</td>\n",
       "</tr>\n",
       "<tr>\n",
       "  <th>Date:</th>            <td>Mon, 31 Jan 2022</td> <th>  Deviance:          </th> <td>  3299.1</td>\n",
       "</tr>\n",
       "<tr>\n",
       "  <th>Time:</th>                <td>11:12:05</td>     <th>  Pearson chi2:      </th> <td>1.68e+04</td>\n",
       "</tr>\n",
       "<tr>\n",
       "  <th>No. Iterations:</th>          <td>8</td>        <th>  Pseudo R-squ. (CS):</th>  <td>0.2571</td> \n",
       "</tr>\n",
       "<tr>\n",
       "  <th>Covariance Type:</th>     <td>nonrobust</td>    <th>                     </th>     <td> </td>   \n",
       "</tr>\n",
       "</table>\n",
       "<table class=\"simpletable\">\n",
       "<tr>\n",
       "               <td></td>                  <th>coef</th>     <th>std err</th>      <th>z</th>      <th>P>|z|</th>  <th>[0.025</th>    <th>0.975]</th>  \n",
       "</tr>\n",
       "<tr>\n",
       "  <th>const</th>                       <td>   -4.3547</td> <td>    1.333</td> <td>   -3.266</td> <td> 0.001</td> <td>   -6.968</td> <td>   -1.741</td>\n",
       "</tr>\n",
       "<tr>\n",
       "  <th>aluminum</th>                    <td>    6.3447</td> <td>    1.027</td> <td>    6.180</td> <td> 0.000</td> <td>    4.333</td> <td>    8.357</td>\n",
       "</tr>\n",
       "<tr>\n",
       "  <th>ammonia</th>                     <td>    0.0620</td> <td>    0.051</td> <td>    1.206</td> <td> 0.228</td> <td>   -0.039</td> <td>    0.163</td>\n",
       "</tr>\n",
       "<tr>\n",
       "  <th>arsenic</th>                     <td>   -3.4178</td> <td>    0.294</td> <td>  -11.637</td> <td> 0.000</td> <td>   -3.993</td> <td>   -2.842</td>\n",
       "</tr>\n",
       "<tr>\n",
       "  <th>barium</th>                      <td>    0.0900</td> <td>    0.177</td> <td>    0.510</td> <td> 0.610</td> <td>   -0.256</td> <td>    0.436</td>\n",
       "</tr>\n",
       "<tr>\n",
       "  <th>cadmium</th>                     <td>   -7.3592</td> <td>    1.574</td> <td>   -4.674</td> <td> 0.000</td> <td>  -10.445</td> <td>   -4.273</td>\n",
       "</tr>\n",
       "<tr>\n",
       "  <th>chloramine</th>                  <td>    2.8656</td> <td>    0.788</td> <td>    3.638</td> <td> 0.000</td> <td>    1.322</td> <td>    4.409</td>\n",
       "</tr>\n",
       "<tr>\n",
       "  <th>chromium</th>                    <td>    0.8427</td> <td>    0.348</td> <td>    2.423</td> <td> 0.015</td> <td>    0.161</td> <td>    1.524</td>\n",
       "</tr>\n",
       "<tr>\n",
       "  <th>copper</th>                      <td>   -1.1636</td> <td>    0.284</td> <td>   -4.090</td> <td> 0.000</td> <td>   -1.721</td> <td>   -0.606</td>\n",
       "</tr>\n",
       "<tr>\n",
       "  <th>fluoride</th>                    <td>    0.3082</td> <td>    0.217</td> <td>    1.423</td> <td> 0.155</td> <td>   -0.116</td> <td>    0.733</td>\n",
       "</tr>\n",
       "<tr>\n",
       "  <th>bacteria</th>                    <td>    2.3863</td> <td>    0.665</td> <td>    3.588</td> <td> 0.000</td> <td>    1.083</td> <td>    3.690</td>\n",
       "</tr>\n",
       "<tr>\n",
       "  <th>viruses</th>                     <td>   -2.6915</td> <td>    0.585</td> <td>   -4.599</td> <td> 0.000</td> <td>   -3.839</td> <td>   -1.544</td>\n",
       "</tr>\n",
       "<tr>\n",
       "  <th>lead</th>                        <td>   -2.6174</td> <td>    3.620</td> <td>   -0.723</td> <td> 0.470</td> <td>   -9.713</td> <td>    4.478</td>\n",
       "</tr>\n",
       "<tr>\n",
       "  <th>nitrates</th>                    <td>   -0.0540</td> <td>    0.078</td> <td>   -0.693</td> <td> 0.488</td> <td>   -0.207</td> <td>    0.099</td>\n",
       "</tr>\n",
       "<tr>\n",
       "  <th>nitrites</th>                    <td>   -0.2865</td> <td>    0.324</td> <td>   -0.883</td> <td> 0.377</td> <td>   -0.922</td> <td>    0.349</td>\n",
       "</tr>\n",
       "<tr>\n",
       "  <th>mercury</th>                     <td>  159.8634</td> <td>  185.845</td> <td>    0.860</td> <td> 0.390</td> <td> -204.387</td> <td>  524.113</td>\n",
       "</tr>\n",
       "<tr>\n",
       "  <th>perchlorate</th>                 <td> 7.213e-07</td> <td> 7.82e-07</td> <td>    0.922</td> <td> 0.356</td> <td>-8.11e-07</td> <td> 2.25e-06</td>\n",
       "</tr>\n",
       "<tr>\n",
       "  <th>radium</th>                      <td>    0.0397</td> <td>    0.122</td> <td>    0.325</td> <td> 0.745</td> <td>   -0.200</td> <td>    0.280</td>\n",
       "</tr>\n",
       "<tr>\n",
       "  <th>selenium</th>                    <td>   -4.3222</td> <td>    9.222</td> <td>   -0.469</td> <td> 0.639</td> <td>  -22.397</td> <td>   13.752</td>\n",
       "</tr>\n",
       "<tr>\n",
       "  <th>silver</th>                      <td>   -2.4179</td> <td>    0.313</td> <td>   -7.715</td> <td> 0.000</td> <td>   -3.032</td> <td>   -1.804</td>\n",
       "</tr>\n",
       "<tr>\n",
       "  <th>uranium</th>                     <td>  -20.3403</td> <td>   10.287</td> <td>   -1.977</td> <td> 0.048</td> <td>  -40.502</td> <td>   -0.179</td>\n",
       "</tr>\n",
       "<tr>\n",
       "  <th>aluminum:Log_aluminum</th>       <td>   -1.7069</td> <td>    1.133</td> <td>   -1.506</td> <td> 0.132</td> <td>   -3.928</td> <td>    0.514</td>\n",
       "</tr>\n",
       "<tr>\n",
       "  <th>ammonia:Log_ammonia</th>         <td>   -0.0267</td> <td>    0.015</td> <td>   -1.823</td> <td> 0.068</td> <td>   -0.055</td> <td>    0.002</td>\n",
       "</tr>\n",
       "<tr>\n",
       "  <th>arsenic:Log_arsenic</th>         <td>   -0.1282</td> <td>    0.563</td> <td>   -0.228</td> <td> 0.820</td> <td>   -1.233</td> <td>    0.976</td>\n",
       "</tr>\n",
       "<tr>\n",
       "  <th>barium:Log_barium</th>           <td>   -0.0247</td> <td>    0.110</td> <td>   -0.225</td> <td> 0.822</td> <td>   -0.240</td> <td>    0.191</td>\n",
       "</tr>\n",
       "<tr>\n",
       "  <th>cadmium:Log_cadmium</th>         <td>   -1.5034</td> <td>    1.460</td> <td>   -1.030</td> <td> 0.303</td> <td>   -4.364</td> <td>    1.357</td>\n",
       "</tr>\n",
       "<tr>\n",
       "  <th>chloramine:Log_chloramine</th>   <td>   -0.9770</td> <td>    0.771</td> <td>   -1.268</td> <td> 0.205</td> <td>   -2.488</td> <td>    0.534</td>\n",
       "</tr>\n",
       "<tr>\n",
       "  <th>chromium:Log_chromium</th>       <td>    0.1548</td> <td>    0.623</td> <td>    0.249</td> <td> 0.804</td> <td>   -1.066</td> <td>    1.375</td>\n",
       "</tr>\n",
       "<tr>\n",
       "  <th>copper:Log_copper</th>           <td>    0.3356</td> <td>    0.409</td> <td>    0.821</td> <td> 0.412</td> <td>   -0.465</td> <td>    1.137</td>\n",
       "</tr>\n",
       "<tr>\n",
       "  <th>fluoride:Log_fluoride</th>       <td>   -0.3794</td> <td>    0.316</td> <td>   -1.200</td> <td> 0.230</td> <td>   -0.999</td> <td>    0.241</td>\n",
       "</tr>\n",
       "<tr>\n",
       "  <th>bacteria:Log_bacteria</th>       <td>   -1.1808</td> <td>    0.705</td> <td>   -1.676</td> <td> 0.094</td> <td>   -2.562</td> <td>    0.200</td>\n",
       "</tr>\n",
       "<tr>\n",
       "  <th>viruses:Log_viruses</th>         <td>    0.2479</td> <td>    0.797</td> <td>    0.311</td> <td> 0.756</td> <td>   -1.315</td> <td>    1.811</td>\n",
       "</tr>\n",
       "<tr>\n",
       "  <th>lead:Log_lead</th>               <td>   -0.2208</td> <td>    2.404</td> <td>   -0.092</td> <td> 0.927</td> <td>   -4.933</td> <td>    4.491</td>\n",
       "</tr>\n",
       "<tr>\n",
       "  <th>nitrates:Log_nitrates</th>       <td>   -0.0019</td> <td>    0.025</td> <td>   -0.078</td> <td> 0.938</td> <td>   -0.051</td> <td>    0.047</td>\n",
       "</tr>\n",
       "<tr>\n",
       "  <th>nitrites:Log_nitrites</th>       <td>   -0.2837</td> <td>    0.279</td> <td>   -1.017</td> <td> 0.309</td> <td>   -0.830</td> <td>    0.263</td>\n",
       "</tr>\n",
       "<tr>\n",
       "  <th>mercury:Log_mercury</th>         <td>   45.0345</td> <td>   41.498</td> <td>    1.085</td> <td> 0.278</td> <td>  -36.301</td> <td>  126.370</td>\n",
       "</tr>\n",
       "<tr>\n",
       "  <th>perchlorate:Log_perchlorate</th> <td>-7.001e-08</td> <td> 4.97e-08</td> <td>   -1.410</td> <td> 0.159</td> <td>-1.67e-07</td> <td> 2.73e-08</td>\n",
       "</tr>\n",
       "<tr>\n",
       "  <th>radium:Log_radium</th>           <td>   -0.0747</td> <td>    0.056</td> <td>   -1.335</td> <td> 0.182</td> <td>   -0.184</td> <td>    0.035</td>\n",
       "</tr>\n",
       "<tr>\n",
       "  <th>selenium:Log_selenium</th>       <td>   -0.1768</td> <td>    4.160</td> <td>   -0.043</td> <td> 0.966</td> <td>   -8.330</td> <td>    7.977</td>\n",
       "</tr>\n",
       "<tr>\n",
       "  <th>silver:Log_silver</th>           <td>   -0.9045</td> <td>    0.629</td> <td>   -1.437</td> <td> 0.151</td> <td>   -2.138</td> <td>    0.329</td>\n",
       "</tr>\n",
       "<tr>\n",
       "  <th>uranium:Log_uranium</th>         <td>   -2.3668</td> <td>    4.297</td> <td>   -0.551</td> <td> 0.582</td> <td>  -10.790</td> <td>    6.056</td>\n",
       "</tr>\n",
       "</table>"
      ],
      "text/plain": [
       "<class 'statsmodels.iolib.summary.Summary'>\n",
       "\"\"\"\n",
       "                 Generalized Linear Model Regression Results                  \n",
       "==============================================================================\n",
       "Dep. Variable:                      y   No. Observations:                 7996\n",
       "Model:                            GLM   Df Residuals:                     7955\n",
       "Model Family:                Binomial   Df Model:                           40\n",
       "Link Function:                  logit   Scale:                          1.0000\n",
       "Method:                          IRLS   Log-Likelihood:                -1649.6\n",
       "Date:                Mon, 31 Jan 2022   Deviance:                       3299.1\n",
       "Time:                        11:12:05   Pearson chi2:                 1.68e+04\n",
       "No. Iterations:                     8   Pseudo R-squ. (CS):             0.2571\n",
       "Covariance Type:            nonrobust                                         \n",
       "===============================================================================================\n",
       "                                  coef    std err          z      P>|z|      [0.025      0.975]\n",
       "-----------------------------------------------------------------------------------------------\n",
       "const                          -4.3547      1.333     -3.266      0.001      -6.968      -1.741\n",
       "aluminum                        6.3447      1.027      6.180      0.000       4.333       8.357\n",
       "ammonia                         0.0620      0.051      1.206      0.228      -0.039       0.163\n",
       "arsenic                        -3.4178      0.294    -11.637      0.000      -3.993      -2.842\n",
       "barium                          0.0900      0.177      0.510      0.610      -0.256       0.436\n",
       "cadmium                        -7.3592      1.574     -4.674      0.000     -10.445      -4.273\n",
       "chloramine                      2.8656      0.788      3.638      0.000       1.322       4.409\n",
       "chromium                        0.8427      0.348      2.423      0.015       0.161       1.524\n",
       "copper                         -1.1636      0.284     -4.090      0.000      -1.721      -0.606\n",
       "fluoride                        0.3082      0.217      1.423      0.155      -0.116       0.733\n",
       "bacteria                        2.3863      0.665      3.588      0.000       1.083       3.690\n",
       "viruses                        -2.6915      0.585     -4.599      0.000      -3.839      -1.544\n",
       "lead                           -2.6174      3.620     -0.723      0.470      -9.713       4.478\n",
       "nitrates                       -0.0540      0.078     -0.693      0.488      -0.207       0.099\n",
       "nitrites                       -0.2865      0.324     -0.883      0.377      -0.922       0.349\n",
       "mercury                       159.8634    185.845      0.860      0.390    -204.387     524.113\n",
       "perchlorate                  7.213e-07   7.82e-07      0.922      0.356   -8.11e-07    2.25e-06\n",
       "radium                          0.0397      0.122      0.325      0.745      -0.200       0.280\n",
       "selenium                       -4.3222      9.222     -0.469      0.639     -22.397      13.752\n",
       "silver                         -2.4179      0.313     -7.715      0.000      -3.032      -1.804\n",
       "uranium                       -20.3403     10.287     -1.977      0.048     -40.502      -0.179\n",
       "aluminum:Log_aluminum          -1.7069      1.133     -1.506      0.132      -3.928       0.514\n",
       "ammonia:Log_ammonia            -0.0267      0.015     -1.823      0.068      -0.055       0.002\n",
       "arsenic:Log_arsenic            -0.1282      0.563     -0.228      0.820      -1.233       0.976\n",
       "barium:Log_barium              -0.0247      0.110     -0.225      0.822      -0.240       0.191\n",
       "cadmium:Log_cadmium            -1.5034      1.460     -1.030      0.303      -4.364       1.357\n",
       "chloramine:Log_chloramine      -0.9770      0.771     -1.268      0.205      -2.488       0.534\n",
       "chromium:Log_chromium           0.1548      0.623      0.249      0.804      -1.066       1.375\n",
       "copper:Log_copper               0.3356      0.409      0.821      0.412      -0.465       1.137\n",
       "fluoride:Log_fluoride          -0.3794      0.316     -1.200      0.230      -0.999       0.241\n",
       "bacteria:Log_bacteria          -1.1808      0.705     -1.676      0.094      -2.562       0.200\n",
       "viruses:Log_viruses             0.2479      0.797      0.311      0.756      -1.315       1.811\n",
       "lead:Log_lead                  -0.2208      2.404     -0.092      0.927      -4.933       4.491\n",
       "nitrates:Log_nitrates          -0.0019      0.025     -0.078      0.938      -0.051       0.047\n",
       "nitrites:Log_nitrites          -0.2837      0.279     -1.017      0.309      -0.830       0.263\n",
       "mercury:Log_mercury            45.0345     41.498      1.085      0.278     -36.301     126.370\n",
       "perchlorate:Log_perchlorate -7.001e-08   4.97e-08     -1.410      0.159   -1.67e-07    2.73e-08\n",
       "radium:Log_radium              -0.0747      0.056     -1.335      0.182      -0.184       0.035\n",
       "selenium:Log_selenium          -0.1768      4.160     -0.043      0.966      -8.330       7.977\n",
       "silver:Log_silver              -0.9045      0.629     -1.437      0.151      -2.138       0.329\n",
       "uranium:Log_uranium            -2.3668      4.297     -0.551      0.582     -10.790       6.056\n",
       "===============================================================================================\n",
       "\"\"\""
      ]
     },
     "execution_count": 23,
     "metadata": {},
     "output_type": "execute_result"
    }
   ],
   "source": [
    "results = check_linearity(check_df)\n",
    "results"
   ]
  },
  {
   "cell_type": "markdown",
   "id": "10a14f19",
   "metadata": {},
   "source": [
    "#### All non-linearity is now captured and assumption 2 is met\n",
    "\n",
    "#### Assumption 3: No strongly influential outliers"
   ]
  },
  {
   "cell_type": "code",
   "execution_count": 24,
   "id": "777a94b1",
   "metadata": {
    "scrolled": false
   },
   "outputs": [],
   "source": [
    "def get_outliers(dframe):\n",
    "    \"\"\"Function to generate z-scores for each data point and\n",
    "        determine whether points are outliers\n",
    "    \n",
    "        params: dframe - dataframe to check for outliers\n",
    "    \n",
    "        output: array of outliers in dframe\"\"\"\n",
    "    \n",
    "    \n",
    "    z = np.abs(stats.zscore(check_df.iloc[:, 0:20]))\n",
    "    threshold = 3.0\n",
    "    return np.where(z > threshold)[0]"
   ]
  },
  {
   "cell_type": "code",
   "execution_count": 25,
   "id": "2e2e6357",
   "metadata": {},
   "outputs": [],
   "source": [
    "# Drop Log_{var} columns\n",
    "\n",
    "check_df.drop(check_df.iloc[:, 21:], axis=1, inplace=True)"
   ]
  },
  {
   "cell_type": "code",
   "execution_count": 26,
   "id": "a8cd9fc6",
   "metadata": {},
   "outputs": [],
   "source": [
    "# Find outliers and drop the rows from dataframe\n",
    "\n",
    "outliers = get_outliers(check_df.iloc[:, 0:20])\n",
    "check_df.drop(outliers, inplace=True)"
   ]
  },
  {
   "cell_type": "code",
   "execution_count": 27,
   "id": "3078f0e3",
   "metadata": {},
   "outputs": [
    {
     "data": {
      "text/plain": [
       "(7459, 21)"
      ]
     },
     "execution_count": 27,
     "metadata": {},
     "output_type": "execute_result"
    }
   ],
   "source": [
    "# Get shape of dataframe\n",
    "check_df.shape"
   ]
  },
  {
   "cell_type": "markdown",
   "id": "2098110b",
   "metadata": {},
   "source": [
    "#### After dropping 537 rows with outliers, assumption 3 is met\n",
    "\n",
    "#### Assumption 4: Absence of Multicollinearity"
   ]
  },
  {
   "cell_type": "code",
   "execution_count": 28,
   "id": "71e7ed48",
   "metadata": {},
   "outputs": [],
   "source": [
    "def calc_vif(dframe):\n",
    "    \"\"\" Function to measure degree of multicollinearity using the\n",
    "        variance inflation factor (VIF), where a VIF above 5 indicates\n",
    "        a high degree of multicollinearity\n",
    "        \n",
    "        params: dframe - the dataframe to check for multicollinearity\n",
    "        \n",
    "        output: vif - the variance inflation factor of all columns\"\"\"\n",
    "    \n",
    "    \n",
    "    vif = pd.DataFrame()\n",
    "    vif[\"variables\"] = dframe.columns\n",
    "    \n",
    "    vif[\"VIF\"] = [variance_inflation_factor(dframe.values, i) \\\n",
    "                  for i in range(dframe.shape[1])]\n",
    "    return vif"
   ]
  },
  {
   "cell_type": "code",
   "execution_count": 29,
   "id": "d11755bb",
   "metadata": {},
   "outputs": [
    {
     "data": {
      "text/html": [
       "<div>\n",
       "<style scoped>\n",
       "    .dataframe tbody tr th:only-of-type {\n",
       "        vertical-align: middle;\n",
       "    }\n",
       "\n",
       "    .dataframe tbody tr th {\n",
       "        vertical-align: top;\n",
       "    }\n",
       "\n",
       "    .dataframe thead th {\n",
       "        text-align: right;\n",
       "    }\n",
       "</style>\n",
       "<table border=\"1\" class=\"dataframe\">\n",
       "  <thead>\n",
       "    <tr style=\"text-align: right;\">\n",
       "      <th></th>\n",
       "      <th>variables</th>\n",
       "      <th>VIF</th>\n",
       "    </tr>\n",
       "  </thead>\n",
       "  <tbody>\n",
       "    <tr>\n",
       "      <th>0</th>\n",
       "      <td>aluminum</td>\n",
       "      <td>8.624557</td>\n",
       "    </tr>\n",
       "    <tr>\n",
       "      <th>1</th>\n",
       "      <td>ammonia</td>\n",
       "      <td>3.621763</td>\n",
       "    </tr>\n",
       "    <tr>\n",
       "      <th>2</th>\n",
       "      <td>arsenic</td>\n",
       "      <td>4.260034</td>\n",
       "    </tr>\n",
       "    <tr>\n",
       "      <th>3</th>\n",
       "      <td>barium</td>\n",
       "      <td>3.908340</td>\n",
       "    </tr>\n",
       "    <tr>\n",
       "      <th>4</th>\n",
       "      <td>cadmium</td>\n",
       "      <td>5.246952</td>\n",
       "    </tr>\n",
       "    <tr>\n",
       "      <th>5</th>\n",
       "      <td>chloramine</td>\n",
       "      <td>19.014017</td>\n",
       "    </tr>\n",
       "    <tr>\n",
       "      <th>6</th>\n",
       "      <td>chromium</td>\n",
       "      <td>11.701801</td>\n",
       "    </tr>\n",
       "    <tr>\n",
       "      <th>7</th>\n",
       "      <td>copper</td>\n",
       "      <td>4.696468</td>\n",
       "    </tr>\n",
       "    <tr>\n",
       "      <th>8</th>\n",
       "      <td>fluoride</td>\n",
       "      <td>3.913466</td>\n",
       "    </tr>\n",
       "    <tr>\n",
       "      <th>9</th>\n",
       "      <td>bacteria</td>\n",
       "      <td>2.874209</td>\n",
       "    </tr>\n",
       "    <tr>\n",
       "      <th>10</th>\n",
       "      <td>viruses</td>\n",
       "      <td>3.421199</td>\n",
       "    </tr>\n",
       "    <tr>\n",
       "      <th>11</th>\n",
       "      <td>lead</td>\n",
       "      <td>3.853143</td>\n",
       "    </tr>\n",
       "    <tr>\n",
       "      <th>12</th>\n",
       "      <td>nitrates</td>\n",
       "      <td>3.907527</td>\n",
       "    </tr>\n",
       "    <tr>\n",
       "      <th>13</th>\n",
       "      <td>nitrites</td>\n",
       "      <td>8.617164</td>\n",
       "    </tr>\n",
       "    <tr>\n",
       "      <th>14</th>\n",
       "      <td>mercury</td>\n",
       "      <td>3.834996</td>\n",
       "    </tr>\n",
       "    <tr>\n",
       "      <th>15</th>\n",
       "      <td>perchlorate</td>\n",
       "      <td>1.506434</td>\n",
       "    </tr>\n",
       "    <tr>\n",
       "      <th>16</th>\n",
       "      <td>radium</td>\n",
       "      <td>3.295218</td>\n",
       "    </tr>\n",
       "    <tr>\n",
       "      <th>17</th>\n",
       "      <td>selenium</td>\n",
       "      <td>3.867783</td>\n",
       "    </tr>\n",
       "    <tr>\n",
       "      <th>18</th>\n",
       "      <td>silver</td>\n",
       "      <td>12.302611</td>\n",
       "    </tr>\n",
       "    <tr>\n",
       "      <th>19</th>\n",
       "      <td>uranium</td>\n",
       "      <td>3.554386</td>\n",
       "    </tr>\n",
       "  </tbody>\n",
       "</table>\n",
       "</div>"
      ],
      "text/plain": [
       "      variables        VIF\n",
       "0      aluminum   8.624557\n",
       "1       ammonia   3.621763\n",
       "2       arsenic   4.260034\n",
       "3        barium   3.908340\n",
       "4       cadmium   5.246952\n",
       "5    chloramine  19.014017\n",
       "6      chromium  11.701801\n",
       "7        copper   4.696468\n",
       "8      fluoride   3.913466\n",
       "9      bacteria   2.874209\n",
       "10      viruses   3.421199\n",
       "11         lead   3.853143\n",
       "12     nitrates   3.907527\n",
       "13     nitrites   8.617164\n",
       "14      mercury   3.834996\n",
       "15  perchlorate   1.506434\n",
       "16       radium   3.295218\n",
       "17     selenium   3.867783\n",
       "18       silver  12.302611\n",
       "19      uranium   3.554386"
      ]
     },
     "execution_count": 29,
     "metadata": {},
     "output_type": "execute_result"
    }
   ],
   "source": [
    "calc_vif(check_df.iloc[:, 0:20])"
   ]
  },
  {
   "cell_type": "code",
   "execution_count": 30,
   "id": "aac7c0bd",
   "metadata": {},
   "outputs": [
    {
     "data": {
      "text/html": [
       "<div>\n",
       "<style scoped>\n",
       "    .dataframe tbody tr th:only-of-type {\n",
       "        vertical-align: middle;\n",
       "    }\n",
       "\n",
       "    .dataframe tbody tr th {\n",
       "        vertical-align: top;\n",
       "    }\n",
       "\n",
       "    .dataframe thead th {\n",
       "        text-align: right;\n",
       "    }\n",
       "</style>\n",
       "<table border=\"1\" class=\"dataframe\">\n",
       "  <thead>\n",
       "    <tr style=\"text-align: right;\">\n",
       "      <th></th>\n",
       "      <th>variables</th>\n",
       "      <th>VIF</th>\n",
       "    </tr>\n",
       "  </thead>\n",
       "  <tbody>\n",
       "    <tr>\n",
       "      <th>0</th>\n",
       "      <td>ammonia</td>\n",
       "      <td>3.432840</td>\n",
       "    </tr>\n",
       "    <tr>\n",
       "      <th>1</th>\n",
       "      <td>arsenic</td>\n",
       "      <td>3.823017</td>\n",
       "    </tr>\n",
       "    <tr>\n",
       "      <th>2</th>\n",
       "      <td>barium</td>\n",
       "      <td>3.327680</td>\n",
       "    </tr>\n",
       "    <tr>\n",
       "      <th>3</th>\n",
       "      <td>cadmium</td>\n",
       "      <td>5.010168</td>\n",
       "    </tr>\n",
       "    <tr>\n",
       "      <th>4</th>\n",
       "      <td>copper</td>\n",
       "      <td>4.119139</td>\n",
       "    </tr>\n",
       "    <tr>\n",
       "      <th>5</th>\n",
       "      <td>fluoride</td>\n",
       "      <td>3.784542</td>\n",
       "    </tr>\n",
       "    <tr>\n",
       "      <th>6</th>\n",
       "      <td>bacteria</td>\n",
       "      <td>2.653502</td>\n",
       "    </tr>\n",
       "    <tr>\n",
       "      <th>7</th>\n",
       "      <td>viruses</td>\n",
       "      <td>3.232159</td>\n",
       "    </tr>\n",
       "    <tr>\n",
       "      <th>8</th>\n",
       "      <td>lead</td>\n",
       "      <td>3.765013</td>\n",
       "    </tr>\n",
       "    <tr>\n",
       "      <th>9</th>\n",
       "      <td>nitrates</td>\n",
       "      <td>3.780234</td>\n",
       "    </tr>\n",
       "    <tr>\n",
       "      <th>10</th>\n",
       "      <td>mercury</td>\n",
       "      <td>3.759256</td>\n",
       "    </tr>\n",
       "    <tr>\n",
       "      <th>11</th>\n",
       "      <td>perchlorate</td>\n",
       "      <td>1.434723</td>\n",
       "    </tr>\n",
       "    <tr>\n",
       "      <th>12</th>\n",
       "      <td>radium</td>\n",
       "      <td>2.897071</td>\n",
       "    </tr>\n",
       "    <tr>\n",
       "      <th>13</th>\n",
       "      <td>selenium</td>\n",
       "      <td>3.803399</td>\n",
       "    </tr>\n",
       "    <tr>\n",
       "      <th>14</th>\n",
       "      <td>uranium</td>\n",
       "      <td>3.487861</td>\n",
       "    </tr>\n",
       "  </tbody>\n",
       "</table>\n",
       "</div>"
      ],
      "text/plain": [
       "      variables       VIF\n",
       "0       ammonia  3.432840\n",
       "1       arsenic  3.823017\n",
       "2        barium  3.327680\n",
       "3       cadmium  5.010168\n",
       "4        copper  4.119139\n",
       "5      fluoride  3.784542\n",
       "6      bacteria  2.653502\n",
       "7       viruses  3.232159\n",
       "8          lead  3.765013\n",
       "9      nitrates  3.780234\n",
       "10      mercury  3.759256\n",
       "11  perchlorate  1.434723\n",
       "12       radium  2.897071\n",
       "13     selenium  3.803399\n",
       "14      uranium  3.487861"
      ]
     },
     "execution_count": 30,
     "metadata": {},
     "output_type": "execute_result"
    }
   ],
   "source": [
    "# Silver metals like aluminum, cadmium, chromium, and silver seem to be interdependent\n",
    "# Nitrites are likely dependent upon nitrates\n",
    "# Chloramine is related to ammonia and fluoride\n",
    "\n",
    "# Drop these columns from the dataset then check vif values again\n",
    "\n",
    "check_df.drop(['aluminum', \n",
    "               'chloramine', \n",
    "               'chromium', \n",
    "               'nitrites', \n",
    "               'silver'], axis=1, inplace=True)\n",
    "\n",
    "calc_vif(check_df.iloc[:, 0:15])"
   ]
  },
  {
   "cell_type": "markdown",
   "id": "5ce3f9ec",
   "metadata": {},
   "source": [
    "#### After dropping 5 columns that related strongly to other attributes, assumption 4 is met\n",
    "\n",
    "#### Assumption 5: Independence of observations"
   ]
  },
  {
   "cell_type": "code",
   "execution_count": 31,
   "id": "545abd83",
   "metadata": {},
   "outputs": [],
   "source": [
    "# Independence assumption is automatically met because the data is drawn \n",
    "# from separate bodies of water, with each row representing \n",
    "# a different water resource"
   ]
  },
  {
   "cell_type": "markdown",
   "id": "613af556",
   "metadata": {},
   "source": [
    "#### Because each row of data is a separate body of water, assumption 5 is met\n",
    "\n",
    "#### Assumption 6: Sufficiently large sample size"
   ]
  },
  {
   "cell_type": "code",
   "execution_count": 32,
   "id": "e60a2e68",
   "metadata": {},
   "outputs": [
    {
     "data": {
      "text/plain": [
       "7459"
      ]
     },
     "execution_count": 32,
     "metadata": {},
     "output_type": "execute_result"
    }
   ],
   "source": [
    "# Rule of thumb: there should be 10 observations with the least frequent outcome\n",
    "# However, given the high resolution of scientific data, this is improbable\n",
    "# Another rule of thumb: number of observations should be > 500\n",
    "\n",
    "len(check_df)"
   ]
  },
  {
   "cell_type": "markdown",
   "id": "ef3849da",
   "metadata": {},
   "source": [
    "#### With a total of 7459 observations, the 6th and final assumption for logistic regression has been met\n",
    "\n",
    "#### Write clean, organized, engineered dataset to csv file for future use"
   ]
  },
  {
   "cell_type": "code",
   "execution_count": 33,
   "id": "0d1c484d",
   "metadata": {},
   "outputs": [],
   "source": [
    "check_df.to_csv('./ready_df.csv', index=False)"
   ]
  }
 ],
 "metadata": {
  "kernelspec": {
   "display_name": "Python 3 (ipykernel)",
   "language": "python",
   "name": "python3"
  },
  "language_info": {
   "codemirror_mode": {
    "name": "ipython",
    "version": 3
   },
   "file_extension": ".py",
   "mimetype": "text/x-python",
   "name": "python",
   "nbconvert_exporter": "python",
   "pygments_lexer": "ipython3",
   "version": "3.8.12"
  }
 },
 "nbformat": 4,
 "nbformat_minor": 5
}
