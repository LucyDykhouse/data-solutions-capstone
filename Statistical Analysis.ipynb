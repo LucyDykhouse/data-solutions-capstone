{
 "cells": [
  {
   "cell_type": "markdown",
   "id": "4e405be8",
   "metadata": {},
   "source": [
    "# Statistical Analysis\n",
    "\n",
    "## Logit Regression"
   ]
  },
  {
   "cell_type": "markdown",
   "id": "fd2b4041",
   "metadata": {},
   "source": [
    "### Imports"
   ]
  },
  {
   "cell_type": "code",
   "execution_count": 1,
   "id": "73988a27",
   "metadata": {},
   "outputs": [],
   "source": [
    "import matplotlib.pyplot as plt\n",
    "import numpy as np\n",
    "import pandas as pd\n",
    "from sklearn.model_selection import train_test_split\n",
    "from sklearn import metrics\n",
    "import statsmodels.api as sm"
   ]
  },
  {
   "cell_type": "markdown",
   "id": "91094dd7",
   "metadata": {},
   "source": [
    "### Retrieve data"
   ]
  },
  {
   "cell_type": "code",
   "execution_count": 2,
   "id": "f7ef9630",
   "metadata": {},
   "outputs": [],
   "source": [
    "df = pd.read_csv('ready_df.csv')"
   ]
  },
  {
   "cell_type": "code",
   "execution_count": 3,
   "id": "e46f6808",
   "metadata": {},
   "outputs": [
    {
     "data": {
      "text/html": [
       "<div>\n",
       "<style scoped>\n",
       "    .dataframe tbody tr th:only-of-type {\n",
       "        vertical-align: middle;\n",
       "    }\n",
       "\n",
       "    .dataframe tbody tr th {\n",
       "        vertical-align: top;\n",
       "    }\n",
       "\n",
       "    .dataframe thead th {\n",
       "        text-align: right;\n",
       "    }\n",
       "</style>\n",
       "<table border=\"1\" class=\"dataframe\">\n",
       "  <thead>\n",
       "    <tr style=\"text-align: right;\">\n",
       "      <th></th>\n",
       "      <th>ammonia</th>\n",
       "      <th>arsenic</th>\n",
       "      <th>barium</th>\n",
       "      <th>cadmium</th>\n",
       "      <th>copper</th>\n",
       "      <th>fluoride</th>\n",
       "      <th>bacteria</th>\n",
       "      <th>viruses</th>\n",
       "      <th>lead</th>\n",
       "      <th>nitrates</th>\n",
       "      <th>mercury</th>\n",
       "      <th>perchlorate</th>\n",
       "      <th>radium</th>\n",
       "      <th>selenium</th>\n",
       "      <th>uranium</th>\n",
       "      <th>potability</th>\n",
       "    </tr>\n",
       "  </thead>\n",
       "  <tbody>\n",
       "    <tr>\n",
       "      <th>0</th>\n",
       "      <td>9.08</td>\n",
       "      <td>0.200000</td>\n",
       "      <td>2.85</td>\n",
       "      <td>0.083666</td>\n",
       "      <td>0.412311</td>\n",
       "      <td>0.05</td>\n",
       "      <td>0.001600</td>\n",
       "      <td>0.000000</td>\n",
       "      <td>0.054</td>\n",
       "      <td>16.08</td>\n",
       "      <td>0.007</td>\n",
       "      <td>2.030803e+06</td>\n",
       "      <td>6.78</td>\n",
       "      <td>0.08</td>\n",
       "      <td>0.02</td>\n",
       "      <td>1</td>\n",
       "    </tr>\n",
       "    <tr>\n",
       "      <th>1</th>\n",
       "      <td>21.16</td>\n",
       "      <td>0.100000</td>\n",
       "      <td>3.31</td>\n",
       "      <td>0.044721</td>\n",
       "      <td>0.812404</td>\n",
       "      <td>0.90</td>\n",
       "      <td>0.178506</td>\n",
       "      <td>0.422500</td>\n",
       "      <td>0.100</td>\n",
       "      <td>2.01</td>\n",
       "      <td>0.003</td>\n",
       "      <td>1.083072e+06</td>\n",
       "      <td>3.21</td>\n",
       "      <td>0.08</td>\n",
       "      <td>0.05</td>\n",
       "      <td>1</td>\n",
       "    </tr>\n",
       "    <tr>\n",
       "      <th>2</th>\n",
       "      <td>14.02</td>\n",
       "      <td>0.200000</td>\n",
       "      <td>0.58</td>\n",
       "      <td>0.089443</td>\n",
       "      <td>0.141421</td>\n",
       "      <td>0.99</td>\n",
       "      <td>0.000006</td>\n",
       "      <td>0.000009</td>\n",
       "      <td>0.078</td>\n",
       "      <td>14.16</td>\n",
       "      <td>0.006</td>\n",
       "      <td>6.391180e+06</td>\n",
       "      <td>7.07</td>\n",
       "      <td>0.07</td>\n",
       "      <td>0.01</td>\n",
       "      <td>0</td>\n",
       "    </tr>\n",
       "    <tr>\n",
       "      <th>3</th>\n",
       "      <td>11.33</td>\n",
       "      <td>0.200000</td>\n",
       "      <td>2.96</td>\n",
       "      <td>0.031623</td>\n",
       "      <td>1.288410</td>\n",
       "      <td>1.08</td>\n",
       "      <td>0.254117</td>\n",
       "      <td>0.504100</td>\n",
       "      <td>0.016</td>\n",
       "      <td>1.41</td>\n",
       "      <td>0.004</td>\n",
       "      <td>6.917981e+03</td>\n",
       "      <td>1.72</td>\n",
       "      <td>0.02</td>\n",
       "      <td>0.05</td>\n",
       "      <td>1</td>\n",
       "    </tr>\n",
       "    <tr>\n",
       "      <th>4</th>\n",
       "      <td>24.33</td>\n",
       "      <td>0.173205</td>\n",
       "      <td>0.20</td>\n",
       "      <td>0.077460</td>\n",
       "      <td>0.754983</td>\n",
       "      <td>0.61</td>\n",
       "      <td>0.000286</td>\n",
       "      <td>0.000001</td>\n",
       "      <td>0.117</td>\n",
       "      <td>6.74</td>\n",
       "      <td>0.003</td>\n",
       "      <td>8.157307e+04</td>\n",
       "      <td>2.41</td>\n",
       "      <td>0.02</td>\n",
       "      <td>0.02</td>\n",
       "      <td>1</td>\n",
       "    </tr>\n",
       "  </tbody>\n",
       "</table>\n",
       "</div>"
      ],
      "text/plain": [
       "   ammonia   arsenic  barium   cadmium    copper  fluoride  bacteria  \\\n",
       "0     9.08  0.200000    2.85  0.083666  0.412311      0.05  0.001600   \n",
       "1    21.16  0.100000    3.31  0.044721  0.812404      0.90  0.178506   \n",
       "2    14.02  0.200000    0.58  0.089443  0.141421      0.99  0.000006   \n",
       "3    11.33  0.200000    2.96  0.031623  1.288410      1.08  0.254117   \n",
       "4    24.33  0.173205    0.20  0.077460  0.754983      0.61  0.000286   \n",
       "\n",
       "    viruses   lead  nitrates  mercury   perchlorate  radium  selenium  \\\n",
       "0  0.000000  0.054     16.08    0.007  2.030803e+06    6.78      0.08   \n",
       "1  0.422500  0.100      2.01    0.003  1.083072e+06    3.21      0.08   \n",
       "2  0.000009  0.078     14.16    0.006  6.391180e+06    7.07      0.07   \n",
       "3  0.504100  0.016      1.41    0.004  6.917981e+03    1.72      0.02   \n",
       "4  0.000001  0.117      6.74    0.003  8.157307e+04    2.41      0.02   \n",
       "\n",
       "   uranium  potability  \n",
       "0     0.02           1  \n",
       "1     0.05           1  \n",
       "2     0.01           0  \n",
       "3     0.05           1  \n",
       "4     0.02           1  "
      ]
     },
     "execution_count": 3,
     "metadata": {},
     "output_type": "execute_result"
    }
   ],
   "source": [
    "df.head()"
   ]
  },
  {
   "cell_type": "code",
   "execution_count": 4,
   "id": "43709a6e",
   "metadata": {},
   "outputs": [
    {
     "name": "stdout",
     "output_type": "stream",
     "text": [
      "<class 'pandas.core.frame.DataFrame'>\n",
      "RangeIndex: 7459 entries, 0 to 7458\n",
      "Data columns (total 16 columns):\n",
      " #   Column       Non-Null Count  Dtype  \n",
      "---  ------       --------------  -----  \n",
      " 0   ammonia      7459 non-null   float64\n",
      " 1   arsenic      7459 non-null   float64\n",
      " 2   barium       7459 non-null   float64\n",
      " 3   cadmium      7459 non-null   float64\n",
      " 4   copper       7459 non-null   float64\n",
      " 5   fluoride     7459 non-null   float64\n",
      " 6   bacteria     7459 non-null   float64\n",
      " 7   viruses      7459 non-null   float64\n",
      " 8   lead         7459 non-null   float64\n",
      " 9   nitrates     7459 non-null   float64\n",
      " 10  mercury      7459 non-null   float64\n",
      " 11  perchlorate  7459 non-null   float64\n",
      " 12  radium       7459 non-null   float64\n",
      " 13  selenium     7459 non-null   float64\n",
      " 14  uranium      7459 non-null   float64\n",
      " 15  potability   7459 non-null   int64  \n",
      "dtypes: float64(15), int64(1)\n",
      "memory usage: 932.5 KB\n"
     ]
    }
   ],
   "source": [
    "df.info()"
   ]
  },
  {
   "cell_type": "markdown",
   "id": "8cad2e41",
   "metadata": {},
   "source": [
    "#### Distinguish the explanatory and outcome variables"
   ]
  },
  {
   "cell_type": "code",
   "execution_count": 5,
   "id": "5cd03306",
   "metadata": {},
   "outputs": [],
   "source": [
    "# Let explanatory variables be X and the outcome variable be y\n",
    "\n",
    "X = df.iloc[:, 0:15]\n",
    "y = df['potability']"
   ]
  },
  {
   "cell_type": "markdown",
   "id": "92c1ab0a",
   "metadata": {},
   "source": [
    "#### Split data into a training set and a test set (3:1)"
   ]
  },
  {
   "cell_type": "code",
   "execution_count": 6,
   "id": "d74016ad",
   "metadata": {},
   "outputs": [],
   "source": [
    "X_train, X_test, y_train, y_test = train_test_split(X, y, test_size=0.25, random_state=0)"
   ]
  },
  {
   "cell_type": "markdown",
   "id": "c149a05e",
   "metadata": {},
   "source": [
    "### Model development\n",
    "#### Fit model to appropriate data"
   ]
  },
  {
   "cell_type": "code",
   "execution_count": 7,
   "id": "de86c436",
   "metadata": {},
   "outputs": [
    {
     "data": {
      "text/html": [
       "<table class=\"simpletable\">\n",
       "<tr>\n",
       "        <td>Model:</td>               <td>GLM</td>            <td>AIC:</td>        <td>3292.9881</td> \n",
       "</tr>\n",
       "<tr>\n",
       "    <td>Link Function:</td>          <td>logit</td>           <td>BIC:</td>       <td>-44880.7128</td>\n",
       "</tr>\n",
       "<tr>\n",
       "  <td>Dependent Variable:</td>    <td>potability</td>    <td>Log-Likelihood:</td>   <td>-1631.5</td>  \n",
       "</tr>\n",
       "<tr>\n",
       "         <td>Date:</td>        <td>2022-02-01 11:49</td>    <td>LL-Null:</td>       <td>-2019.9</td>  \n",
       "</tr>\n",
       "<tr>\n",
       "   <td>No. Observations:</td>        <td>5594</td>          <td>Deviance:</td>      <td>3263.0</td>   \n",
       "</tr>\n",
       "<tr>\n",
       "       <td>Df Model:</td>             <td>14</td>         <td>Pearson chi2:</td>   <td>6.39e+03</td>  \n",
       "</tr>\n",
       "<tr>\n",
       "     <td>Df Residuals:</td>          <td>5579</td>           <td>Scale:</td>        <td>1.0000</td>   \n",
       "</tr>\n",
       "<tr>\n",
       "        <td>Method:</td>             <td>IRLS</td>              <td></td>              <td></td>      \n",
       "</tr>\n",
       "</table>\n",
       "<table class=\"simpletable\">\n",
       "<tr>\n",
       "       <td></td>         <th>Coef.</th>  <th>Std.Err.</th>     <th>z</th>     <th>P>|z|</th>  <th>[0.025</th>  <th>0.975]</th> \n",
       "</tr>\n",
       "<tr>\n",
       "  <th>ammonia</th>      <td>-0.0075</td>  <td>0.0050</td>   <td>-1.4779</td> <td>0.1394</td>  <td>-0.0173</td> <td>0.0024</td> \n",
       "</tr>\n",
       "<tr>\n",
       "  <th>arsenic</th>      <td>-1.2973</td>  <td>0.2691</td>   <td>-4.8199</td> <td>0.0000</td>  <td>-1.8248</td> <td>-0.7697</td>\n",
       "</tr>\n",
       "<tr>\n",
       "  <th>barium</th>       <td>0.3801</td>   <td>0.0396</td>   <td>9.6071</td>  <td>0.0000</td>  <td>0.3026</td>  <td>0.4577</td> \n",
       "</tr>\n",
       "<tr>\n",
       "  <th>cadmium</th>      <td>-8.6422</td>  <td>0.5673</td>  <td>-15.2333</td> <td>0.0000</td>  <td>-9.7541</td> <td>-7.5302</td>\n",
       "</tr>\n",
       "<tr>\n",
       "  <th>copper</th>       <td>0.1231</td>   <td>0.1077</td>   <td>1.1429</td>  <td>0.2531</td>  <td>-0.0880</td> <td>0.3343</td> \n",
       "</tr>\n",
       "<tr>\n",
       "  <th>fluoride</th>     <td>0.1493</td>   <td>0.1002</td>   <td>1.4893</td>  <td>0.1364</td>  <td>-0.0472</td> <td>0.3457</td> \n",
       "</tr>\n",
       "<tr>\n",
       "  <th>bacteria</th>     <td>2.1130</td>   <td>0.5361</td>   <td>3.9413</td>  <td>0.0001</td>  <td>1.0622</td>  <td>3.1638</td> \n",
       "</tr>\n",
       "<tr>\n",
       "  <th>viruses</th>      <td>-2.3217</td>  <td>0.3568</td>   <td>-6.5068</td> <td>0.0000</td>  <td>-3.0210</td> <td>-1.6223</td>\n",
       "</tr>\n",
       "<tr>\n",
       "  <th>lead</th>         <td>-0.0872</td>  <td>0.7802</td>   <td>-0.1118</td> <td>0.9110</td>  <td>-1.6163</td> <td>1.4420</td> \n",
       "</tr>\n",
       "<tr>\n",
       "  <th>nitrates</th>     <td>-0.0238</td>  <td>0.0079</td>   <td>-3.0139</td> <td>0.0026</td>  <td>-0.0393</td> <td>-0.0083</td>\n",
       "</tr>\n",
       "<tr>\n",
       "  <th>mercury</th>     <td>-31.3973</td>  <td>14.7602</td>  <td>-2.1272</td> <td>0.0334</td> <td>-60.3267</td> <td>-2.4680</td>\n",
       "</tr>\n",
       "<tr>\n",
       "  <th>perchlorate</th>  <td>-0.0000</td>  <td>0.0000</td>   <td>-4.5968</td> <td>0.0000</td>  <td>-0.0000</td> <td>-0.0000</td>\n",
       "</tr>\n",
       "<tr>\n",
       "  <th>radium</th>       <td>0.0261</td>   <td>0.0198</td>   <td>1.3181</td>  <td>0.1875</td>  <td>-0.0127</td> <td>0.0650</td> \n",
       "</tr>\n",
       "<tr>\n",
       "  <th>selenium</th>     <td>-2.8755</td>  <td>1.5442</td>   <td>-1.8621</td> <td>0.0626</td>  <td>-5.9021</td> <td>0.1512</td> \n",
       "</tr>\n",
       "<tr>\n",
       "  <th>uranium</th>      <td>-9.2466</td>  <td>1.6485</td>   <td>-5.6090</td> <td>0.0000</td> <td>-12.4777</td> <td>-6.0156</td>\n",
       "</tr>\n",
       "</table>"
      ],
      "text/plain": [
       "<class 'statsmodels.iolib.summary2.Summary'>\n",
       "\"\"\"\n",
       "               Results: Generalized linear model\n",
       "================================================================\n",
       "Model:              GLM              AIC:            3292.9881  \n",
       "Link Function:      logit            BIC:            -44880.7128\n",
       "Dependent Variable: potability       Log-Likelihood: -1631.5    \n",
       "Date:               2022-02-01 11:49 LL-Null:        -2019.9    \n",
       "No. Observations:   5594             Deviance:       3263.0     \n",
       "Df Model:           14               Pearson chi2:   6.39e+03   \n",
       "Df Residuals:       5579             Scale:          1.0000     \n",
       "Method:             IRLS                                        \n",
       "----------------------------------------------------------------\n",
       "               Coef.   Std.Err.    z     P>|z|   [0.025   0.975]\n",
       "----------------------------------------------------------------\n",
       "ammonia        -0.0075   0.0050  -1.4779 0.1394  -0.0173  0.0024\n",
       "arsenic        -1.2973   0.2691  -4.8199 0.0000  -1.8248 -0.7697\n",
       "barium          0.3801   0.0396   9.6071 0.0000   0.3026  0.4577\n",
       "cadmium        -8.6422   0.5673 -15.2333 0.0000  -9.7541 -7.5302\n",
       "copper          0.1231   0.1077   1.1429 0.2531  -0.0880  0.3343\n",
       "fluoride        0.1493   0.1002   1.4893 0.1364  -0.0472  0.3457\n",
       "bacteria        2.1130   0.5361   3.9413 0.0001   1.0622  3.1638\n",
       "viruses        -2.3217   0.3568  -6.5068 0.0000  -3.0210 -1.6223\n",
       "lead           -0.0872   0.7802  -0.1118 0.9110  -1.6163  1.4420\n",
       "nitrates       -0.0238   0.0079  -3.0139 0.0026  -0.0393 -0.0083\n",
       "mercury       -31.3973  14.7602  -2.1272 0.0334 -60.3267 -2.4680\n",
       "perchlorate    -0.0000   0.0000  -4.5968 0.0000  -0.0000 -0.0000\n",
       "radium          0.0261   0.0198   1.3181 0.1875  -0.0127  0.0650\n",
       "selenium       -2.8755   1.5442  -1.8621 0.0626  -5.9021  0.1512\n",
       "uranium        -9.2466   1.6485  -5.6090 0.0000 -12.4777 -6.0156\n",
       "================================================================\n",
       "\n",
       "\"\"\""
      ]
     },
     "execution_count": 7,
     "metadata": {},
     "output_type": "execute_result"
    }
   ],
   "source": [
    "logit_fit = sm.GLM(y_train, X_train, family=sm.families.Binomial()).fit()\n",
    "logit_fit.summary2()"
   ]
  },
  {
   "cell_type": "markdown",
   "id": "6d57cfa8",
   "metadata": {},
   "source": [
    "#### Drop the columns that are not statistically significant on potability at the 0.05 significance level. Note that each column being dropped was determined to have no/weak correlation to potability in the data exploration"
   ]
  },
  {
   "cell_type": "code",
   "execution_count": 8,
   "id": "058e22fe",
   "metadata": {},
   "outputs": [],
   "source": [
    "X_train.drop(['ammonia', 'copper', 'fluoride', 'lead', 'radium', 'selenium'], axis=1, inplace=True)\n",
    "X_test.drop(['ammonia', 'copper', 'fluoride', 'lead', 'radium', 'selenium'], axis=1, inplace=True)"
   ]
  },
  {
   "cell_type": "markdown",
   "id": "3a501131",
   "metadata": {},
   "source": [
    "#### Fit the model again"
   ]
  },
  {
   "cell_type": "code",
   "execution_count": 9,
   "id": "1ed05e81",
   "metadata": {},
   "outputs": [
    {
     "data": {
      "text/html": [
       "<table class=\"simpletable\">\n",
       "<tr>\n",
       "        <td>Model:</td>               <td>GLM</td>            <td>AIC:</td>        <td>3291.1991</td> \n",
       "</tr>\n",
       "<tr>\n",
       "    <td>Link Function:</td>          <td>logit</td>           <td>BIC:</td>       <td>-44922.2785</td>\n",
       "</tr>\n",
       "<tr>\n",
       "  <td>Dependent Variable:</td>    <td>potability</td>    <td>Log-Likelihood:</td>   <td>-1636.6</td>  \n",
       "</tr>\n",
       "<tr>\n",
       "         <td>Date:</td>        <td>2022-02-01 11:49</td>    <td>LL-Null:</td>       <td>-2019.9</td>  \n",
       "</tr>\n",
       "<tr>\n",
       "   <td>No. Observations:</td>        <td>5594</td>          <td>Deviance:</td>      <td>3273.2</td>   \n",
       "</tr>\n",
       "<tr>\n",
       "       <td>Df Model:</td>              <td>8</td>         <td>Pearson chi2:</td>   <td>6.37e+03</td>  \n",
       "</tr>\n",
       "<tr>\n",
       "     <td>Df Residuals:</td>          <td>5585</td>           <td>Scale:</td>        <td>1.0000</td>   \n",
       "</tr>\n",
       "<tr>\n",
       "        <td>Method:</td>             <td>IRLS</td>              <td></td>              <td></td>      \n",
       "</tr>\n",
       "</table>\n",
       "<table class=\"simpletable\">\n",
       "<tr>\n",
       "       <td></td>         <th>Coef.</th>  <th>Std.Err.</th>     <th>z</th>     <th>P>|z|</th>  <th>[0.025</th>  <th>0.975]</th> \n",
       "</tr>\n",
       "<tr>\n",
       "  <th>arsenic</th>      <td>-1.2766</td>  <td>0.2666</td>   <td>-4.7877</td> <td>0.0000</td>  <td>-1.7992</td> <td>-0.7540</td>\n",
       "</tr>\n",
       "<tr>\n",
       "  <th>barium</th>       <td>0.3884</td>   <td>0.0370</td>   <td>10.4925</td> <td>0.0000</td>  <td>0.3159</td>  <td>0.4610</td> \n",
       "</tr>\n",
       "<tr>\n",
       "  <th>cadmium</th>      <td>-8.7706</td>  <td>0.5453</td>  <td>-16.0827</td> <td>0.0000</td>  <td>-9.8395</td> <td>-7.7018</td>\n",
       "</tr>\n",
       "<tr>\n",
       "  <th>bacteria</th>     <td>2.1857</td>   <td>0.5278</td>   <td>4.1409</td>  <td>0.0000</td>  <td>1.1512</td>  <td>3.2202</td> \n",
       "</tr>\n",
       "<tr>\n",
       "  <th>viruses</th>      <td>-2.3759</td>  <td>0.3497</td>   <td>-6.7945</td> <td>0.0000</td>  <td>-3.0612</td> <td>-1.6905</td>\n",
       "</tr>\n",
       "<tr>\n",
       "  <th>nitrates</th>     <td>-0.0235</td>  <td>0.0072</td>   <td>-3.2592</td> <td>0.0011</td>  <td>-0.0377</td> <td>-0.0094</td>\n",
       "</tr>\n",
       "<tr>\n",
       "  <th>mercury</th>     <td>-28.3978</td>  <td>13.7573</td>  <td>-2.0642</td> <td>0.0390</td> <td>-55.3616</td> <td>-1.4340</td>\n",
       "</tr>\n",
       "<tr>\n",
       "  <th>perchlorate</th>  <td>-0.0000</td>  <td>0.0000</td>   <td>-4.5324</td> <td>0.0000</td>  <td>-0.0000</td> <td>-0.0000</td>\n",
       "</tr>\n",
       "<tr>\n",
       "  <th>uranium</th>      <td>-8.7432</td>  <td>1.5599</td>   <td>-5.6051</td> <td>0.0000</td> <td>-11.8005</td> <td>-5.6859</td>\n",
       "</tr>\n",
       "</table>"
      ],
      "text/plain": [
       "<class 'statsmodels.iolib.summary2.Summary'>\n",
       "\"\"\"\n",
       "               Results: Generalized linear model\n",
       "================================================================\n",
       "Model:              GLM              AIC:            3291.1991  \n",
       "Link Function:      logit            BIC:            -44922.2785\n",
       "Dependent Variable: potability       Log-Likelihood: -1636.6    \n",
       "Date:               2022-02-01 11:49 LL-Null:        -2019.9    \n",
       "No. Observations:   5594             Deviance:       3273.2     \n",
       "Df Model:           8                Pearson chi2:   6.37e+03   \n",
       "Df Residuals:       5585             Scale:          1.0000     \n",
       "Method:             IRLS                                        \n",
       "----------------------------------------------------------------\n",
       "               Coef.   Std.Err.    z     P>|z|   [0.025   0.975]\n",
       "----------------------------------------------------------------\n",
       "arsenic        -1.2766   0.2666  -4.7877 0.0000  -1.7992 -0.7540\n",
       "barium          0.3884   0.0370  10.4925 0.0000   0.3159  0.4610\n",
       "cadmium        -8.7706   0.5453 -16.0827 0.0000  -9.8395 -7.7018\n",
       "bacteria        2.1857   0.5278   4.1409 0.0000   1.1512  3.2202\n",
       "viruses        -2.3759   0.3497  -6.7945 0.0000  -3.0612 -1.6905\n",
       "nitrates       -0.0235   0.0072  -3.2592 0.0011  -0.0377 -0.0094\n",
       "mercury       -28.3978  13.7573  -2.0642 0.0390 -55.3616 -1.4340\n",
       "perchlorate    -0.0000   0.0000  -4.5324 0.0000  -0.0000 -0.0000\n",
       "uranium        -8.7432   1.5599  -5.6051 0.0000 -11.8005 -5.6859\n",
       "================================================================\n",
       "\n",
       "\"\"\""
      ]
     },
     "execution_count": 9,
     "metadata": {},
     "output_type": "execute_result"
    }
   ],
   "source": [
    "logit_model = sm.GLM(y_train, X_train, family=sm.families.Binomial()).fit()\n",
    "logit_model.summary2()"
   ]
  },
  {
   "cell_type": "markdown",
   "id": "5c5813ed",
   "metadata": {},
   "source": [
    "#### The low p-values of each remaining attribute indicates that the effect of each attribute on potability is statistically significant at conventional significance levels. \n",
    "\n",
    "### Evaluating the logit regression with metric interpretation:"
   ]
  },
  {
   "cell_type": "markdown",
   "id": "9acdf499",
   "metadata": {},
   "source": [
    "### Evaluating the logit regression with prediction:"
   ]
  },
  {
   "cell_type": "code",
   "execution_count": 10,
   "id": "05b1de48",
   "metadata": {},
   "outputs": [],
   "source": [
    "y_pred = logit_model.predict(X_test)"
   ]
  },
  {
   "cell_type": "code",
   "execution_count": 11,
   "id": "9b217f7e",
   "metadata": {},
   "outputs": [
    {
     "data": {
      "text/plain": [
       "array([[1621,   16],\n",
       "       [ 221,    7]], dtype=int64)"
      ]
     },
     "execution_count": 11,
     "metadata": {},
     "output_type": "execute_result"
    }
   ],
   "source": [
    "metrics.confusion_matrix(y_test, y_pred.round(0))"
   ]
  }
 ],
 "metadata": {
  "kernelspec": {
   "display_name": "Python 3 (ipykernel)",
   "language": "python",
   "name": "python3"
  },
  "language_info": {
   "codemirror_mode": {
    "name": "ipython",
    "version": 3
   },
   "file_extension": ".py",
   "mimetype": "text/x-python",
   "name": "python",
   "nbconvert_exporter": "python",
   "pygments_lexer": "ipython3",
   "version": "3.8.12"
  }
 },
 "nbformat": 4,
 "nbformat_minor": 5
}
